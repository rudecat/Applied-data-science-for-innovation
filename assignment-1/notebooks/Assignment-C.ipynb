{
 "metadata": {
  "language_info": {
   "codemirror_mode": {
    "name": "ipython",
    "version": 3
   },
   "file_extension": ".py",
   "mimetype": "text/x-python",
   "name": "python",
   "nbconvert_exporter": "python",
   "pygments_lexer": "ipython3",
   "version": "3.8.8-final"
  },
  "orig_nbformat": 2,
  "kernelspec": {
   "name": "uts-python3.8",
   "display_name": "uts-python3.8",
   "language": "python"
  }
 },
 "nbformat": 4,
 "nbformat_minor": 2,
 "cells": [
  {
   "source": [
    "## Assignment-B Multivariant Linear Regression\n",
    "@author: Kai-Ping Wang"
   ],
   "cell_type": "markdown",
   "metadata": {}
  },
  {
   "source": [
    "## Importing the libraries\n",
    "Import all required libraries, and also set some libraries options."
   ],
   "cell_type": "markdown",
   "metadata": {}
  },
  {
   "cell_type": "code",
   "execution_count": 1,
   "metadata": {},
   "outputs": [],
   "source": [
    "import pandas as pd\n",
    "import numpy as np\n",
    "import matplotlib.pyplot as plt\n",
    "\n",
    "pd.set_option('display.max_columns', None)"
   ]
  },
  {
   "source": [
    "## Importing the dataset"
   ],
   "cell_type": "markdown",
   "metadata": {}
  },
  {
   "cell_type": "code",
   "execution_count": 2,
   "metadata": {},
   "outputs": [],
   "source": [
    "file_url = 'https://raw.githubusercontent.com/aso-uts/applied_ds/master/assignment1/cancer_reg.csv'\n",
    "df = pd.read_csv(file_url, encoding='ISO-8859-1')"
   ]
  },
  {
   "source": [
    "## Data Processing\n",
    "As we can use all features in the data, we will have to convert all categorical data. Use previous knowledge to remove insignificant features with lots of missing value or dummy value."
   ],
   "cell_type": "markdown",
   "metadata": {}
  },
  {
   "cell_type": "code",
   "execution_count": 3,
   "metadata": {},
   "outputs": [],
   "source": [
    "df_base = pd.concat([df.TARGET_deathRate,df.drop(columns='TARGET_deathRate')],axis=1)\n",
    "df_base.AvgHouseholdSize = df_base.AvgHouseholdSize.apply(lambda x: x if x > 1 else x*100)\n",
    "df_base.MedianAge = df_base.MedianAge.apply(lambda x: x if x < 100 else x/10)\n"
   ]
  },
  {
   "cell_type": "code",
   "execution_count": 4,
   "metadata": {},
   "outputs": [
    {
     "output_type": "execute_result",
     "data": {
      "text/plain": [
       "   Alabama  Alaska  Arizona  Arkansas  California  Colorado  Connecticut  \\\n",
       "0      0.0     0.0      0.0       0.0         0.0       0.0          0.0   \n",
       "1      0.0     0.0      0.0       0.0         0.0       0.0          0.0   \n",
       "2      0.0     0.0      0.0       0.0         0.0       0.0          0.0   \n",
       "3      0.0     0.0      0.0       0.0         0.0       0.0          0.0   \n",
       "4      0.0     0.0      0.0       0.0         0.0       0.0          0.0   \n",
       "\n",
       "   Delaware  District of Columbia  Florida  Georgia  Hawaii  Idaho  Illinois  \\\n",
       "0       0.0                   0.0      0.0      0.0     0.0    0.0       0.0   \n",
       "1       0.0                   0.0      0.0      0.0     0.0    0.0       0.0   \n",
       "2       0.0                   0.0      0.0      0.0     0.0    0.0       0.0   \n",
       "3       0.0                   0.0      0.0      0.0     0.0    0.0       0.0   \n",
       "4       0.0                   0.0      0.0      0.0     0.0    0.0       0.0   \n",
       "\n",
       "   Indiana  Iowa  Kansas  Kentucky  Louisiana  Maine  Maryland  Massachusetts  \\\n",
       "0      0.0   0.0     0.0       0.0        0.0    0.0       0.0            0.0   \n",
       "1      0.0   0.0     0.0       0.0        0.0    0.0       0.0            0.0   \n",
       "2      0.0   0.0     0.0       0.0        0.0    0.0       0.0            0.0   \n",
       "3      0.0   0.0     0.0       0.0        0.0    0.0       0.0            0.0   \n",
       "4      0.0   0.0     0.0       0.0        0.0    0.0       0.0            0.0   \n",
       "\n",
       "   Michigan  Minnesota  Mississippi  Missouri  Montana  Nebraska  Nevada  \\\n",
       "0       0.0        0.0          0.0       0.0      0.0       0.0     0.0   \n",
       "1       0.0        0.0          0.0       0.0      0.0       0.0     0.0   \n",
       "2       0.0        0.0          0.0       0.0      0.0       0.0     0.0   \n",
       "3       0.0        0.0          0.0       0.0      0.0       0.0     0.0   \n",
       "4       0.0        0.0          0.0       0.0      0.0       0.0     0.0   \n",
       "\n",
       "   New Hampshire  New Jersey  New Mexico  New York  North Carolina  \\\n",
       "0            0.0         0.0         0.0       0.0             0.0   \n",
       "1            0.0         0.0         0.0       0.0             0.0   \n",
       "2            0.0         0.0         0.0       0.0             0.0   \n",
       "3            0.0         0.0         0.0       0.0             0.0   \n",
       "4            0.0         0.0         0.0       0.0             0.0   \n",
       "\n",
       "   North Dakota  Ohio  Oklahoma  Oregon  Pennsylvania  Rhode Island  \\\n",
       "0           0.0   0.0       0.0     0.0           0.0           0.0   \n",
       "1           0.0   0.0       0.0     0.0           0.0           0.0   \n",
       "2           0.0   0.0       0.0     0.0           0.0           0.0   \n",
       "3           0.0   0.0       0.0     0.0           0.0           0.0   \n",
       "4           0.0   0.0       0.0     0.0           0.0           0.0   \n",
       "\n",
       "   South Carolina  South Dakota  Tennessee  Texas  Utah  Vermont  Virginia  \\\n",
       "0             0.0           0.0        0.0    0.0   0.0      0.0       0.0   \n",
       "1             0.0           0.0        0.0    0.0   0.0      0.0       0.0   \n",
       "2             0.0           0.0        0.0    0.0   0.0      0.0       0.0   \n",
       "3             0.0           0.0        0.0    0.0   0.0      0.0       0.0   \n",
       "4             0.0           0.0        0.0    0.0   0.0      0.0       0.0   \n",
       "\n",
       "   Washington  West Virginia  Wisconsin  Wyoming  \n",
       "0         1.0            0.0        0.0      0.0  \n",
       "1         1.0            0.0        0.0      0.0  \n",
       "2         1.0            0.0        0.0      0.0  \n",
       "3         1.0            0.0        0.0      0.0  \n",
       "4         1.0            0.0        0.0      0.0  "
      ],
      "text/html": "<div>\n<style scoped>\n    .dataframe tbody tr th:only-of-type {\n        vertical-align: middle;\n    }\n\n    .dataframe tbody tr th {\n        vertical-align: top;\n    }\n\n    .dataframe thead th {\n        text-align: right;\n    }\n</style>\n<table border=\"1\" class=\"dataframe\">\n  <thead>\n    <tr style=\"text-align: right;\">\n      <th></th>\n      <th>Alabama</th>\n      <th>Alaska</th>\n      <th>Arizona</th>\n      <th>Arkansas</th>\n      <th>California</th>\n      <th>Colorado</th>\n      <th>Connecticut</th>\n      <th>Delaware</th>\n      <th>District of Columbia</th>\n      <th>Florida</th>\n      <th>Georgia</th>\n      <th>Hawaii</th>\n      <th>Idaho</th>\n      <th>Illinois</th>\n      <th>Indiana</th>\n      <th>Iowa</th>\n      <th>Kansas</th>\n      <th>Kentucky</th>\n      <th>Louisiana</th>\n      <th>Maine</th>\n      <th>Maryland</th>\n      <th>Massachusetts</th>\n      <th>Michigan</th>\n      <th>Minnesota</th>\n      <th>Mississippi</th>\n      <th>Missouri</th>\n      <th>Montana</th>\n      <th>Nebraska</th>\n      <th>Nevada</th>\n      <th>New Hampshire</th>\n      <th>New Jersey</th>\n      <th>New Mexico</th>\n      <th>New York</th>\n      <th>North Carolina</th>\n      <th>North Dakota</th>\n      <th>Ohio</th>\n      <th>Oklahoma</th>\n      <th>Oregon</th>\n      <th>Pennsylvania</th>\n      <th>Rhode Island</th>\n      <th>South Carolina</th>\n      <th>South Dakota</th>\n      <th>Tennessee</th>\n      <th>Texas</th>\n      <th>Utah</th>\n      <th>Vermont</th>\n      <th>Virginia</th>\n      <th>Washington</th>\n      <th>West Virginia</th>\n      <th>Wisconsin</th>\n      <th>Wyoming</th>\n    </tr>\n  </thead>\n  <tbody>\n    <tr>\n      <th>0</th>\n      <td>0.0</td>\n      <td>0.0</td>\n      <td>0.0</td>\n      <td>0.0</td>\n      <td>0.0</td>\n      <td>0.0</td>\n      <td>0.0</td>\n      <td>0.0</td>\n      <td>0.0</td>\n      <td>0.0</td>\n      <td>0.0</td>\n      <td>0.0</td>\n      <td>0.0</td>\n      <td>0.0</td>\n      <td>0.0</td>\n      <td>0.0</td>\n      <td>0.0</td>\n      <td>0.0</td>\n      <td>0.0</td>\n      <td>0.0</td>\n      <td>0.0</td>\n      <td>0.0</td>\n      <td>0.0</td>\n      <td>0.0</td>\n      <td>0.0</td>\n      <td>0.0</td>\n      <td>0.0</td>\n      <td>0.0</td>\n      <td>0.0</td>\n      <td>0.0</td>\n      <td>0.0</td>\n      <td>0.0</td>\n      <td>0.0</td>\n      <td>0.0</td>\n      <td>0.0</td>\n      <td>0.0</td>\n      <td>0.0</td>\n      <td>0.0</td>\n      <td>0.0</td>\n      <td>0.0</td>\n      <td>0.0</td>\n      <td>0.0</td>\n      <td>0.0</td>\n      <td>0.0</td>\n      <td>0.0</td>\n      <td>0.0</td>\n      <td>0.0</td>\n      <td>1.0</td>\n      <td>0.0</td>\n      <td>0.0</td>\n      <td>0.0</td>\n    </tr>\n    <tr>\n      <th>1</th>\n      <td>0.0</td>\n      <td>0.0</td>\n      <td>0.0</td>\n      <td>0.0</td>\n      <td>0.0</td>\n      <td>0.0</td>\n      <td>0.0</td>\n      <td>0.0</td>\n      <td>0.0</td>\n      <td>0.0</td>\n      <td>0.0</td>\n      <td>0.0</td>\n      <td>0.0</td>\n      <td>0.0</td>\n      <td>0.0</td>\n      <td>0.0</td>\n      <td>0.0</td>\n      <td>0.0</td>\n      <td>0.0</td>\n      <td>0.0</td>\n      <td>0.0</td>\n      <td>0.0</td>\n      <td>0.0</td>\n      <td>0.0</td>\n      <td>0.0</td>\n      <td>0.0</td>\n      <td>0.0</td>\n      <td>0.0</td>\n      <td>0.0</td>\n      <td>0.0</td>\n      <td>0.0</td>\n      <td>0.0</td>\n      <td>0.0</td>\n      <td>0.0</td>\n      <td>0.0</td>\n      <td>0.0</td>\n      <td>0.0</td>\n      <td>0.0</td>\n      <td>0.0</td>\n      <td>0.0</td>\n      <td>0.0</td>\n      <td>0.0</td>\n      <td>0.0</td>\n      <td>0.0</td>\n      <td>0.0</td>\n      <td>0.0</td>\n      <td>0.0</td>\n      <td>1.0</td>\n      <td>0.0</td>\n      <td>0.0</td>\n      <td>0.0</td>\n    </tr>\n    <tr>\n      <th>2</th>\n      <td>0.0</td>\n      <td>0.0</td>\n      <td>0.0</td>\n      <td>0.0</td>\n      <td>0.0</td>\n      <td>0.0</td>\n      <td>0.0</td>\n      <td>0.0</td>\n      <td>0.0</td>\n      <td>0.0</td>\n      <td>0.0</td>\n      <td>0.0</td>\n      <td>0.0</td>\n      <td>0.0</td>\n      <td>0.0</td>\n      <td>0.0</td>\n      <td>0.0</td>\n      <td>0.0</td>\n      <td>0.0</td>\n      <td>0.0</td>\n      <td>0.0</td>\n      <td>0.0</td>\n      <td>0.0</td>\n      <td>0.0</td>\n      <td>0.0</td>\n      <td>0.0</td>\n      <td>0.0</td>\n      <td>0.0</td>\n      <td>0.0</td>\n      <td>0.0</td>\n      <td>0.0</td>\n      <td>0.0</td>\n      <td>0.0</td>\n      <td>0.0</td>\n      <td>0.0</td>\n      <td>0.0</td>\n      <td>0.0</td>\n      <td>0.0</td>\n      <td>0.0</td>\n      <td>0.0</td>\n      <td>0.0</td>\n      <td>0.0</td>\n      <td>0.0</td>\n      <td>0.0</td>\n      <td>0.0</td>\n      <td>0.0</td>\n      <td>0.0</td>\n      <td>1.0</td>\n      <td>0.0</td>\n      <td>0.0</td>\n      <td>0.0</td>\n    </tr>\n    <tr>\n      <th>3</th>\n      <td>0.0</td>\n      <td>0.0</td>\n      <td>0.0</td>\n      <td>0.0</td>\n      <td>0.0</td>\n      <td>0.0</td>\n      <td>0.0</td>\n      <td>0.0</td>\n      <td>0.0</td>\n      <td>0.0</td>\n      <td>0.0</td>\n      <td>0.0</td>\n      <td>0.0</td>\n      <td>0.0</td>\n      <td>0.0</td>\n      <td>0.0</td>\n      <td>0.0</td>\n      <td>0.0</td>\n      <td>0.0</td>\n      <td>0.0</td>\n      <td>0.0</td>\n      <td>0.0</td>\n      <td>0.0</td>\n      <td>0.0</td>\n      <td>0.0</td>\n      <td>0.0</td>\n      <td>0.0</td>\n      <td>0.0</td>\n      <td>0.0</td>\n      <td>0.0</td>\n      <td>0.0</td>\n      <td>0.0</td>\n      <td>0.0</td>\n      <td>0.0</td>\n      <td>0.0</td>\n      <td>0.0</td>\n      <td>0.0</td>\n      <td>0.0</td>\n      <td>0.0</td>\n      <td>0.0</td>\n      <td>0.0</td>\n      <td>0.0</td>\n      <td>0.0</td>\n      <td>0.0</td>\n      <td>0.0</td>\n      <td>0.0</td>\n      <td>0.0</td>\n      <td>1.0</td>\n      <td>0.0</td>\n      <td>0.0</td>\n      <td>0.0</td>\n    </tr>\n    <tr>\n      <th>4</th>\n      <td>0.0</td>\n      <td>0.0</td>\n      <td>0.0</td>\n      <td>0.0</td>\n      <td>0.0</td>\n      <td>0.0</td>\n      <td>0.0</td>\n      <td>0.0</td>\n      <td>0.0</td>\n      <td>0.0</td>\n      <td>0.0</td>\n      <td>0.0</td>\n      <td>0.0</td>\n      <td>0.0</td>\n      <td>0.0</td>\n      <td>0.0</td>\n      <td>0.0</td>\n      <td>0.0</td>\n      <td>0.0</td>\n      <td>0.0</td>\n      <td>0.0</td>\n      <td>0.0</td>\n      <td>0.0</td>\n      <td>0.0</td>\n      <td>0.0</td>\n      <td>0.0</td>\n      <td>0.0</td>\n      <td>0.0</td>\n      <td>0.0</td>\n      <td>0.0</td>\n      <td>0.0</td>\n      <td>0.0</td>\n      <td>0.0</td>\n      <td>0.0</td>\n      <td>0.0</td>\n      <td>0.0</td>\n      <td>0.0</td>\n      <td>0.0</td>\n      <td>0.0</td>\n      <td>0.0</td>\n      <td>0.0</td>\n      <td>0.0</td>\n      <td>0.0</td>\n      <td>0.0</td>\n      <td>0.0</td>\n      <td>0.0</td>\n      <td>0.0</td>\n      <td>1.0</td>\n      <td>0.0</td>\n      <td>0.0</td>\n      <td>0.0</td>\n    </tr>\n  </tbody>\n</table>\n</div>"
     },
     "metadata": {},
     "execution_count": 4
    }
   ],
   "source": [
    "from sklearn.preprocessing import OneHotEncoder\n",
    "\n",
    "df_base[['county','state']] = df_base['Geography'].str.split(', ',1,expand=True)\n",
    "enc = OneHotEncoder()\n",
    "X = enc.fit_transform(df_base[['state']]).toarray()\n",
    "df_state = pd.DataFrame(X, columns=enc.categories_[0])\n",
    "df_state.head()"
   ]
  },
  {
   "cell_type": "code",
   "execution_count": 5,
   "metadata": {},
   "outputs": [
    {
     "output_type": "execute_result",
     "data": {
      "text/plain": [
       "6     306\n",
       "1     306\n",
       "9     306\n",
       "8     305\n",
       "5     305\n",
       "7     305\n",
       "2     304\n",
       "4     304\n",
       "3     304\n",
       "10    302\n",
       "Name: binnedInc, dtype: int64"
      ]
     },
     "metadata": {},
     "execution_count": 5
    }
   ],
   "source": [
    "mapping = {'[22640, 34218.1]':1,\n",
    "           '(34218.1, 37413.8]':2,\n",
    "           '(37413.8, 40362.7]':3,\n",
    "           '(40362.7, 42724.4]':4,\n",
    "           '(42724.4, 45201]':5,\n",
    "           '(45201, 48021.6]':6,\n",
    "           '(48021.6, 51046.4]':7,\n",
    "           '(51046.4, 54545.6]':8,\n",
    "           '(54545.6, 61494.5]':9,\n",
    "           '(61494.5, 125635]':10,\n",
    "          }\n",
    "df_binnedInc = df_base['binnedInc'].map(mapping)\n",
    "df_binnedInc.value_counts()"
   ]
  },
  {
   "cell_type": "code",
   "execution_count": 6,
   "metadata": {},
   "outputs": [
    {
     "output_type": "execute_result",
     "data": {
      "text/plain": [
       "       TARGET_deathRate   avgAnnCount  avgDeathsPerYear  incidenceRate  \\\n",
       "count       3047.000000   3047.000000       3047.000000    3047.000000   \n",
       "mean         178.664063    606.338544        185.965868     448.268586   \n",
       "std           27.751511   1416.356223        504.134286      54.560733   \n",
       "min           59.700000      6.000000          3.000000     201.300000   \n",
       "25%          161.200000     76.000000         28.000000     420.300000   \n",
       "50%          178.100000    171.000000         61.000000     453.549422   \n",
       "75%          195.200000    518.000000        149.000000     480.850000   \n",
       "max          362.800000  38150.000000      14010.000000    1206.900000   \n",
       "\n",
       "           medIncome    popEst2015  povertyPercent  studyPerCap    MedianAge  \\\n",
       "count    3047.000000  3.047000e+03     3047.000000  3047.000000  3047.000000   \n",
       "mean    47063.281917  1.026374e+05       16.878175   155.399415    40.906964   \n",
       "std     12040.090836  3.290592e+05        6.409087   529.628366     5.271319   \n",
       "min     22640.000000  8.270000e+02        3.200000     0.000000    22.300000   \n",
       "25%     38882.500000  1.168400e+04       12.150000     0.000000    37.700000   \n",
       "50%     45207.000000  2.664300e+04       15.900000     0.000000    41.000000   \n",
       "75%     52492.000000  6.867100e+04       20.400000    83.650776    43.900000   \n",
       "max    125635.000000  1.017029e+07       47.400000  9762.308998    65.300000   \n",
       "\n",
       "       MedianAgeMale  MedianAgeFemale  AvgHouseholdSize  PercentMarried  \\\n",
       "count    3047.000000      3047.000000       3047.000000     3047.000000   \n",
       "mean       39.570725        42.145323          2.529682       51.773679   \n",
       "std         5.226017         5.292849          0.248449        6.896928   \n",
       "min        22.400000        22.300000          1.860000       23.100000   \n",
       "25%        36.350000        39.100000          2.380000       47.750000   \n",
       "50%        39.600000        42.400000          2.500000       52.400000   \n",
       "75%        42.500000        45.300000          2.640000       56.400000   \n",
       "max        64.700000        65.700000          3.970000       72.500000   \n",
       "\n",
       "       PctNoHS18_24   PctHS18_24  PctBachDeg18_24  PctHS25_Over  \\\n",
       "count   3047.000000  3047.000000      3047.000000   3047.000000   \n",
       "mean      18.224450    35.002068         6.158287     34.804660   \n",
       "std        8.093064     9.069722         4.529059      7.034924   \n",
       "min        0.000000     0.000000         0.000000      7.500000   \n",
       "25%       12.800000    29.200000         3.100000     30.400000   \n",
       "50%       17.100000    34.700000         5.400000     35.300000   \n",
       "75%       22.700000    40.700000         8.200000     39.650000   \n",
       "max       64.100000    72.500000        51.800000     54.800000   \n",
       "\n",
       "       PctBachDeg25_Over  PctUnemployed16_Over  PctPrivateCoverage  \\\n",
       "count        3047.000000           3047.000000         3047.000000   \n",
       "mean           13.282015              7.852412           64.354939   \n",
       "std             5.394756              3.452371           10.647057   \n",
       "min             2.500000              0.400000           22.300000   \n",
       "25%             9.400000              5.500000           57.200000   \n",
       "50%            12.300000              7.600000           65.100000   \n",
       "75%            16.100000              9.700000           72.100000   \n",
       "max            42.200000             29.400000           92.300000   \n",
       "\n",
       "       PctEmpPrivCoverage  PctPublicCoverage  PctPublicCoverageAlone  \\\n",
       "count         3047.000000        3047.000000             3047.000000   \n",
       "mean            41.196324          36.252642               19.240072   \n",
       "std              9.447687           7.841741                6.113041   \n",
       "min             13.500000          11.200000                2.600000   \n",
       "25%             34.500000          30.900000               14.850000   \n",
       "50%             41.100000          36.300000               18.800000   \n",
       "75%             47.700000          41.550000               23.100000   \n",
       "max             70.700000          65.100000               46.600000   \n",
       "\n",
       "          PctWhite     PctBlack     PctAsian  PctOtherRace  \\\n",
       "count  3047.000000  3047.000000  3047.000000   3047.000000   \n",
       "mean     83.645286     9.107978     1.253965      1.983523   \n",
       "std      16.380025    14.534538     2.610276      3.517710   \n",
       "min      10.199155     0.000000     0.000000      0.000000   \n",
       "25%      77.296180     0.620675     0.254199      0.295172   \n",
       "50%      90.059774     2.247576     0.549812      0.826185   \n",
       "75%      95.451693    10.509732     1.221037      2.177960   \n",
       "max     100.000000    85.947799    42.619425     41.930251   \n",
       "\n",
       "       PctMarriedHouseholds    BirthRate      Alabama       Alaska  \\\n",
       "count           3047.000000  3047.000000  3047.000000  3047.000000   \n",
       "mean              51.243872     5.640306     0.020676     0.005907   \n",
       "std                6.572814     1.985816     0.142321     0.076645   \n",
       "min               22.992490     0.000000     0.000000     0.000000   \n",
       "25%               47.763063     4.521419     0.000000     0.000000   \n",
       "50%               51.669941     5.381478     0.000000     0.000000   \n",
       "75%               55.395132     6.493677     0.000000     0.000000   \n",
       "max               78.075397    21.326165     1.000000     1.000000   \n",
       "\n",
       "           Arizona     Arkansas   California     Colorado  Connecticut  \\\n",
       "count  3047.000000  3047.000000  3047.000000  3047.000000  3047.000000   \n",
       "mean      0.004923     0.024614     0.018707     0.019691     0.002626   \n",
       "std       0.070002     0.154972     0.135510     0.138961     0.051181   \n",
       "min       0.000000     0.000000     0.000000     0.000000     0.000000   \n",
       "25%       0.000000     0.000000     0.000000     0.000000     0.000000   \n",
       "50%       0.000000     0.000000     0.000000     0.000000     0.000000   \n",
       "75%       0.000000     0.000000     0.000000     0.000000     0.000000   \n",
       "max       1.000000     1.000000     1.000000     1.000000     1.000000   \n",
       "\n",
       "          Delaware  District of Columbia      Florida      Georgia  \\\n",
       "count  3047.000000           3047.000000  3047.000000  3047.000000   \n",
       "mean      0.000985              0.000328     0.021661     0.050870   \n",
       "std       0.031368              0.018116     0.145597     0.219768   \n",
       "min       0.000000              0.000000     0.000000     0.000000   \n",
       "25%       0.000000              0.000000     0.000000     0.000000   \n",
       "50%       0.000000              0.000000     0.000000     0.000000   \n",
       "75%       0.000000              0.000000     0.000000     0.000000   \n",
       "max       1.000000              1.000000     1.000000     1.000000   \n",
       "\n",
       "            Hawaii        Idaho     Illinois      Indiana         Iowa  \\\n",
       "count  3047.000000  3047.000000  3047.000000  3047.000000  3047.000000   \n",
       "mean      0.001313     0.013784     0.033476     0.030194     0.032491   \n",
       "std       0.036214     0.116613     0.179904     0.171148     0.177329   \n",
       "min       0.000000     0.000000     0.000000     0.000000     0.000000   \n",
       "25%       0.000000     0.000000     0.000000     0.000000     0.000000   \n",
       "50%       0.000000     0.000000     0.000000     0.000000     0.000000   \n",
       "75%       0.000000     0.000000     0.000000     0.000000     0.000000   \n",
       "max       1.000000     1.000000     1.000000     1.000000     1.000000   \n",
       "\n",
       "            Kansas     Kentucky    Louisiana        Maine     Maryland  \\\n",
       "count  3047.000000  3047.000000  3047.000000  3047.000000  3047.000000   \n",
       "mean      0.033476     0.039383     0.021004     0.005251     0.007877   \n",
       "std       0.179904     0.194536     0.143422     0.072286     0.088415   \n",
       "min       0.000000     0.000000     0.000000     0.000000     0.000000   \n",
       "25%       0.000000     0.000000     0.000000     0.000000     0.000000   \n",
       "50%       0.000000     0.000000     0.000000     0.000000     0.000000   \n",
       "75%       0.000000     0.000000     0.000000     0.000000     0.000000   \n",
       "max       1.000000     1.000000     1.000000     1.000000     1.000000   \n",
       "\n",
       "       Massachusetts     Michigan    Minnesota  Mississippi     Missouri  \\\n",
       "count    3047.000000  3047.000000  3047.000000  3047.000000  3047.000000   \n",
       "mean        0.004595     0.027240     0.028553     0.026912     0.037742   \n",
       "std         0.067639     0.162808     0.166573     0.161852     0.190603   \n",
       "min         0.000000     0.000000     0.000000     0.000000     0.000000   \n",
       "25%         0.000000     0.000000     0.000000     0.000000     0.000000   \n",
       "50%         0.000000     0.000000     0.000000     0.000000     0.000000   \n",
       "75%         0.000000     0.000000     0.000000     0.000000     0.000000   \n",
       "max         1.000000     1.000000     1.000000     1.000000     1.000000   \n",
       "\n",
       "           Montana     Nebraska       Nevada  New Hampshire   New Jersey  \\\n",
       "count  3047.000000  3047.000000  3047.000000    3047.000000  3047.000000   \n",
       "mean      0.015753     0.026255     0.005579       0.003282     0.006892   \n",
       "std       0.124540     0.159920     0.074498       0.057203     0.082745   \n",
       "min       0.000000     0.000000     0.000000       0.000000     0.000000   \n",
       "25%       0.000000     0.000000     0.000000       0.000000     0.000000   \n",
       "50%       0.000000     0.000000     0.000000       0.000000     0.000000   \n",
       "75%       0.000000     0.000000     0.000000       0.000000     0.000000   \n",
       "max       1.000000     1.000000     1.000000       1.000000     1.000000   \n",
       "\n",
       "        New Mexico     New York  North Carolina  North Dakota         Ohio  \\\n",
       "count  3047.000000  3047.000000     3047.000000   3047.000000  3047.000000   \n",
       "mean      0.010502     0.020348        0.032491      0.016738     0.028553   \n",
       "std       0.101957     0.141210        0.177329      0.128308     0.166573   \n",
       "min       0.000000     0.000000        0.000000      0.000000     0.000000   \n",
       "25%       0.000000     0.000000        0.000000      0.000000     0.000000   \n",
       "50%       0.000000     0.000000        0.000000      0.000000     0.000000   \n",
       "75%       0.000000     0.000000        0.000000      0.000000     0.000000   \n",
       "max       1.000000     1.000000        1.000000      1.000000     1.000000   \n",
       "\n",
       "          Oklahoma       Oregon  Pennsylvania  Rhode Island  South Carolina  \\\n",
       "count  3047.000000  3047.000000   3047.000000   3047.000000     3047.000000   \n",
       "mean      0.025271     0.011815      0.021989      0.001641        0.015097   \n",
       "std       0.156972     0.108070      0.146671      0.040482        0.121958   \n",
       "min       0.000000     0.000000      0.000000      0.000000        0.000000   \n",
       "25%       0.000000     0.000000      0.000000      0.000000        0.000000   \n",
       "50%       0.000000     0.000000      0.000000      0.000000        0.000000   \n",
       "75%       0.000000     0.000000      0.000000      0.000000        0.000000   \n",
       "max       1.000000     1.000000      1.000000      1.000000        1.000000   \n",
       "\n",
       "       South Dakota    Tennessee        Texas         Utah      Vermont  \\\n",
       "count   3047.000000  3047.000000  3047.000000  3047.000000  3047.000000   \n",
       "mean       0.019363     0.031178     0.076469     0.008861     0.004595   \n",
       "std        0.137821     0.173828     0.265790     0.093731     0.067639   \n",
       "min        0.000000     0.000000     0.000000     0.000000     0.000000   \n",
       "25%        0.000000     0.000000     0.000000     0.000000     0.000000   \n",
       "50%        0.000000     0.000000     0.000000     0.000000     0.000000   \n",
       "75%        0.000000     0.000000     0.000000     0.000000     0.000000   \n",
       "max        1.000000     1.000000     1.000000     1.000000     1.000000   \n",
       "\n",
       "          Virginia   Washington  West Virginia    Wisconsin      Wyoming  \\\n",
       "count  3047.000000  3047.000000    3047.000000  3047.000000  3047.000000   \n",
       "mean      0.041024     0.012799       0.018051     0.023630     0.007548   \n",
       "std       0.198378     0.112427       0.133156     0.151918     0.086567   \n",
       "min       0.000000     0.000000       0.000000     0.000000     0.000000   \n",
       "25%       0.000000     0.000000       0.000000     0.000000     0.000000   \n",
       "50%       0.000000     0.000000       0.000000     0.000000     0.000000   \n",
       "75%       0.000000     0.000000       0.000000     0.000000     0.000000   \n",
       "max       1.000000     1.000000       1.000000     1.000000     1.000000   \n",
       "\n",
       "         binnedInc  \n",
       "count  3047.000000  \n",
       "mean      5.497867  \n",
       "std       2.871380  \n",
       "min       1.000000  \n",
       "25%       3.000000  \n",
       "50%       6.000000  \n",
       "75%       8.000000  \n",
       "max      10.000000  "
      ],
      "text/html": "<div>\n<style scoped>\n    .dataframe tbody tr th:only-of-type {\n        vertical-align: middle;\n    }\n\n    .dataframe tbody tr th {\n        vertical-align: top;\n    }\n\n    .dataframe thead th {\n        text-align: right;\n    }\n</style>\n<table border=\"1\" class=\"dataframe\">\n  <thead>\n    <tr style=\"text-align: right;\">\n      <th></th>\n      <th>TARGET_deathRate</th>\n      <th>avgAnnCount</th>\n      <th>avgDeathsPerYear</th>\n      <th>incidenceRate</th>\n      <th>medIncome</th>\n      <th>popEst2015</th>\n      <th>povertyPercent</th>\n      <th>studyPerCap</th>\n      <th>MedianAge</th>\n      <th>MedianAgeMale</th>\n      <th>MedianAgeFemale</th>\n      <th>AvgHouseholdSize</th>\n      <th>PercentMarried</th>\n      <th>PctNoHS18_24</th>\n      <th>PctHS18_24</th>\n      <th>PctBachDeg18_24</th>\n      <th>PctHS25_Over</th>\n      <th>PctBachDeg25_Over</th>\n      <th>PctUnemployed16_Over</th>\n      <th>PctPrivateCoverage</th>\n      <th>PctEmpPrivCoverage</th>\n      <th>PctPublicCoverage</th>\n      <th>PctPublicCoverageAlone</th>\n      <th>PctWhite</th>\n      <th>PctBlack</th>\n      <th>PctAsian</th>\n      <th>PctOtherRace</th>\n      <th>PctMarriedHouseholds</th>\n      <th>BirthRate</th>\n      <th>Alabama</th>\n      <th>Alaska</th>\n      <th>Arizona</th>\n      <th>Arkansas</th>\n      <th>California</th>\n      <th>Colorado</th>\n      <th>Connecticut</th>\n      <th>Delaware</th>\n      <th>District of Columbia</th>\n      <th>Florida</th>\n      <th>Georgia</th>\n      <th>Hawaii</th>\n      <th>Idaho</th>\n      <th>Illinois</th>\n      <th>Indiana</th>\n      <th>Iowa</th>\n      <th>Kansas</th>\n      <th>Kentucky</th>\n      <th>Louisiana</th>\n      <th>Maine</th>\n      <th>Maryland</th>\n      <th>Massachusetts</th>\n      <th>Michigan</th>\n      <th>Minnesota</th>\n      <th>Mississippi</th>\n      <th>Missouri</th>\n      <th>Montana</th>\n      <th>Nebraska</th>\n      <th>Nevada</th>\n      <th>New Hampshire</th>\n      <th>New Jersey</th>\n      <th>New Mexico</th>\n      <th>New York</th>\n      <th>North Carolina</th>\n      <th>North Dakota</th>\n      <th>Ohio</th>\n      <th>Oklahoma</th>\n      <th>Oregon</th>\n      <th>Pennsylvania</th>\n      <th>Rhode Island</th>\n      <th>South Carolina</th>\n      <th>South Dakota</th>\n      <th>Tennessee</th>\n      <th>Texas</th>\n      <th>Utah</th>\n      <th>Vermont</th>\n      <th>Virginia</th>\n      <th>Washington</th>\n      <th>West Virginia</th>\n      <th>Wisconsin</th>\n      <th>Wyoming</th>\n      <th>binnedInc</th>\n    </tr>\n  </thead>\n  <tbody>\n    <tr>\n      <th>count</th>\n      <td>3047.000000</td>\n      <td>3047.000000</td>\n      <td>3047.000000</td>\n      <td>3047.000000</td>\n      <td>3047.000000</td>\n      <td>3.047000e+03</td>\n      <td>3047.000000</td>\n      <td>3047.000000</td>\n      <td>3047.000000</td>\n      <td>3047.000000</td>\n      <td>3047.000000</td>\n      <td>3047.000000</td>\n      <td>3047.000000</td>\n      <td>3047.000000</td>\n      <td>3047.000000</td>\n      <td>3047.000000</td>\n      <td>3047.000000</td>\n      <td>3047.000000</td>\n      <td>3047.000000</td>\n      <td>3047.000000</td>\n      <td>3047.000000</td>\n      <td>3047.000000</td>\n      <td>3047.000000</td>\n      <td>3047.000000</td>\n      <td>3047.000000</td>\n      <td>3047.000000</td>\n      <td>3047.000000</td>\n      <td>3047.000000</td>\n      <td>3047.000000</td>\n      <td>3047.000000</td>\n      <td>3047.000000</td>\n      <td>3047.000000</td>\n      <td>3047.000000</td>\n      <td>3047.000000</td>\n      <td>3047.000000</td>\n      <td>3047.000000</td>\n      <td>3047.000000</td>\n      <td>3047.000000</td>\n      <td>3047.000000</td>\n      <td>3047.000000</td>\n      <td>3047.000000</td>\n      <td>3047.000000</td>\n      <td>3047.000000</td>\n      <td>3047.000000</td>\n      <td>3047.000000</td>\n      <td>3047.000000</td>\n      <td>3047.000000</td>\n      <td>3047.000000</td>\n      <td>3047.000000</td>\n      <td>3047.000000</td>\n      <td>3047.000000</td>\n      <td>3047.000000</td>\n      <td>3047.000000</td>\n      <td>3047.000000</td>\n      <td>3047.000000</td>\n      <td>3047.000000</td>\n      <td>3047.000000</td>\n      <td>3047.000000</td>\n      <td>3047.000000</td>\n      <td>3047.000000</td>\n      <td>3047.000000</td>\n      <td>3047.000000</td>\n      <td>3047.000000</td>\n      <td>3047.000000</td>\n      <td>3047.000000</td>\n      <td>3047.000000</td>\n      <td>3047.000000</td>\n      <td>3047.000000</td>\n      <td>3047.000000</td>\n      <td>3047.000000</td>\n      <td>3047.000000</td>\n      <td>3047.000000</td>\n      <td>3047.000000</td>\n      <td>3047.000000</td>\n      <td>3047.000000</td>\n      <td>3047.000000</td>\n      <td>3047.000000</td>\n      <td>3047.000000</td>\n      <td>3047.000000</td>\n      <td>3047.000000</td>\n      <td>3047.000000</td>\n    </tr>\n    <tr>\n      <th>mean</th>\n      <td>178.664063</td>\n      <td>606.338544</td>\n      <td>185.965868</td>\n      <td>448.268586</td>\n      <td>47063.281917</td>\n      <td>1.026374e+05</td>\n      <td>16.878175</td>\n      <td>155.399415</td>\n      <td>40.906964</td>\n      <td>39.570725</td>\n      <td>42.145323</td>\n      <td>2.529682</td>\n      <td>51.773679</td>\n      <td>18.224450</td>\n      <td>35.002068</td>\n      <td>6.158287</td>\n      <td>34.804660</td>\n      <td>13.282015</td>\n      <td>7.852412</td>\n      <td>64.354939</td>\n      <td>41.196324</td>\n      <td>36.252642</td>\n      <td>19.240072</td>\n      <td>83.645286</td>\n      <td>9.107978</td>\n      <td>1.253965</td>\n      <td>1.983523</td>\n      <td>51.243872</td>\n      <td>5.640306</td>\n      <td>0.020676</td>\n      <td>0.005907</td>\n      <td>0.004923</td>\n      <td>0.024614</td>\n      <td>0.018707</td>\n      <td>0.019691</td>\n      <td>0.002626</td>\n      <td>0.000985</td>\n      <td>0.000328</td>\n      <td>0.021661</td>\n      <td>0.050870</td>\n      <td>0.001313</td>\n      <td>0.013784</td>\n      <td>0.033476</td>\n      <td>0.030194</td>\n      <td>0.032491</td>\n      <td>0.033476</td>\n      <td>0.039383</td>\n      <td>0.021004</td>\n      <td>0.005251</td>\n      <td>0.007877</td>\n      <td>0.004595</td>\n      <td>0.027240</td>\n      <td>0.028553</td>\n      <td>0.026912</td>\n      <td>0.037742</td>\n      <td>0.015753</td>\n      <td>0.026255</td>\n      <td>0.005579</td>\n      <td>0.003282</td>\n      <td>0.006892</td>\n      <td>0.010502</td>\n      <td>0.020348</td>\n      <td>0.032491</td>\n      <td>0.016738</td>\n      <td>0.028553</td>\n      <td>0.025271</td>\n      <td>0.011815</td>\n      <td>0.021989</td>\n      <td>0.001641</td>\n      <td>0.015097</td>\n      <td>0.019363</td>\n      <td>0.031178</td>\n      <td>0.076469</td>\n      <td>0.008861</td>\n      <td>0.004595</td>\n      <td>0.041024</td>\n      <td>0.012799</td>\n      <td>0.018051</td>\n      <td>0.023630</td>\n      <td>0.007548</td>\n      <td>5.497867</td>\n    </tr>\n    <tr>\n      <th>std</th>\n      <td>27.751511</td>\n      <td>1416.356223</td>\n      <td>504.134286</td>\n      <td>54.560733</td>\n      <td>12040.090836</td>\n      <td>3.290592e+05</td>\n      <td>6.409087</td>\n      <td>529.628366</td>\n      <td>5.271319</td>\n      <td>5.226017</td>\n      <td>5.292849</td>\n      <td>0.248449</td>\n      <td>6.896928</td>\n      <td>8.093064</td>\n      <td>9.069722</td>\n      <td>4.529059</td>\n      <td>7.034924</td>\n      <td>5.394756</td>\n      <td>3.452371</td>\n      <td>10.647057</td>\n      <td>9.447687</td>\n      <td>7.841741</td>\n      <td>6.113041</td>\n      <td>16.380025</td>\n      <td>14.534538</td>\n      <td>2.610276</td>\n      <td>3.517710</td>\n      <td>6.572814</td>\n      <td>1.985816</td>\n      <td>0.142321</td>\n      <td>0.076645</td>\n      <td>0.070002</td>\n      <td>0.154972</td>\n      <td>0.135510</td>\n      <td>0.138961</td>\n      <td>0.051181</td>\n      <td>0.031368</td>\n      <td>0.018116</td>\n      <td>0.145597</td>\n      <td>0.219768</td>\n      <td>0.036214</td>\n      <td>0.116613</td>\n      <td>0.179904</td>\n      <td>0.171148</td>\n      <td>0.177329</td>\n      <td>0.179904</td>\n      <td>0.194536</td>\n      <td>0.143422</td>\n      <td>0.072286</td>\n      <td>0.088415</td>\n      <td>0.067639</td>\n      <td>0.162808</td>\n      <td>0.166573</td>\n      <td>0.161852</td>\n      <td>0.190603</td>\n      <td>0.124540</td>\n      <td>0.159920</td>\n      <td>0.074498</td>\n      <td>0.057203</td>\n      <td>0.082745</td>\n      <td>0.101957</td>\n      <td>0.141210</td>\n      <td>0.177329</td>\n      <td>0.128308</td>\n      <td>0.166573</td>\n      <td>0.156972</td>\n      <td>0.108070</td>\n      <td>0.146671</td>\n      <td>0.040482</td>\n      <td>0.121958</td>\n      <td>0.137821</td>\n      <td>0.173828</td>\n      <td>0.265790</td>\n      <td>0.093731</td>\n      <td>0.067639</td>\n      <td>0.198378</td>\n      <td>0.112427</td>\n      <td>0.133156</td>\n      <td>0.151918</td>\n      <td>0.086567</td>\n      <td>2.871380</td>\n    </tr>\n    <tr>\n      <th>min</th>\n      <td>59.700000</td>\n      <td>6.000000</td>\n      <td>3.000000</td>\n      <td>201.300000</td>\n      <td>22640.000000</td>\n      <td>8.270000e+02</td>\n      <td>3.200000</td>\n      <td>0.000000</td>\n      <td>22.300000</td>\n      <td>22.400000</td>\n      <td>22.300000</td>\n      <td>1.860000</td>\n      <td>23.100000</td>\n      <td>0.000000</td>\n      <td>0.000000</td>\n      <td>0.000000</td>\n      <td>7.500000</td>\n      <td>2.500000</td>\n      <td>0.400000</td>\n      <td>22.300000</td>\n      <td>13.500000</td>\n      <td>11.200000</td>\n      <td>2.600000</td>\n      <td>10.199155</td>\n      <td>0.000000</td>\n      <td>0.000000</td>\n      <td>0.000000</td>\n      <td>22.992490</td>\n      <td>0.000000</td>\n      <td>0.000000</td>\n      <td>0.000000</td>\n      <td>0.000000</td>\n      <td>0.000000</td>\n      <td>0.000000</td>\n      <td>0.000000</td>\n      <td>0.000000</td>\n      <td>0.000000</td>\n      <td>0.000000</td>\n      <td>0.000000</td>\n      <td>0.000000</td>\n      <td>0.000000</td>\n      <td>0.000000</td>\n      <td>0.000000</td>\n      <td>0.000000</td>\n      <td>0.000000</td>\n      <td>0.000000</td>\n      <td>0.000000</td>\n      <td>0.000000</td>\n      <td>0.000000</td>\n      <td>0.000000</td>\n      <td>0.000000</td>\n      <td>0.000000</td>\n      <td>0.000000</td>\n      <td>0.000000</td>\n      <td>0.000000</td>\n      <td>0.000000</td>\n      <td>0.000000</td>\n      <td>0.000000</td>\n      <td>0.000000</td>\n      <td>0.000000</td>\n      <td>0.000000</td>\n      <td>0.000000</td>\n      <td>0.000000</td>\n      <td>0.000000</td>\n      <td>0.000000</td>\n      <td>0.000000</td>\n      <td>0.000000</td>\n      <td>0.000000</td>\n      <td>0.000000</td>\n      <td>0.000000</td>\n      <td>0.000000</td>\n      <td>0.000000</td>\n      <td>0.000000</td>\n      <td>0.000000</td>\n      <td>0.000000</td>\n      <td>0.000000</td>\n      <td>0.000000</td>\n      <td>0.000000</td>\n      <td>0.000000</td>\n      <td>0.000000</td>\n      <td>1.000000</td>\n    </tr>\n    <tr>\n      <th>25%</th>\n      <td>161.200000</td>\n      <td>76.000000</td>\n      <td>28.000000</td>\n      <td>420.300000</td>\n      <td>38882.500000</td>\n      <td>1.168400e+04</td>\n      <td>12.150000</td>\n      <td>0.000000</td>\n      <td>37.700000</td>\n      <td>36.350000</td>\n      <td>39.100000</td>\n      <td>2.380000</td>\n      <td>47.750000</td>\n      <td>12.800000</td>\n      <td>29.200000</td>\n      <td>3.100000</td>\n      <td>30.400000</td>\n      <td>9.400000</td>\n      <td>5.500000</td>\n      <td>57.200000</td>\n      <td>34.500000</td>\n      <td>30.900000</td>\n      <td>14.850000</td>\n      <td>77.296180</td>\n      <td>0.620675</td>\n      <td>0.254199</td>\n      <td>0.295172</td>\n      <td>47.763063</td>\n      <td>4.521419</td>\n      <td>0.000000</td>\n      <td>0.000000</td>\n      <td>0.000000</td>\n      <td>0.000000</td>\n      <td>0.000000</td>\n      <td>0.000000</td>\n      <td>0.000000</td>\n      <td>0.000000</td>\n      <td>0.000000</td>\n      <td>0.000000</td>\n      <td>0.000000</td>\n      <td>0.000000</td>\n      <td>0.000000</td>\n      <td>0.000000</td>\n      <td>0.000000</td>\n      <td>0.000000</td>\n      <td>0.000000</td>\n      <td>0.000000</td>\n      <td>0.000000</td>\n      <td>0.000000</td>\n      <td>0.000000</td>\n      <td>0.000000</td>\n      <td>0.000000</td>\n      <td>0.000000</td>\n      <td>0.000000</td>\n      <td>0.000000</td>\n      <td>0.000000</td>\n      <td>0.000000</td>\n      <td>0.000000</td>\n      <td>0.000000</td>\n      <td>0.000000</td>\n      <td>0.000000</td>\n      <td>0.000000</td>\n      <td>0.000000</td>\n      <td>0.000000</td>\n      <td>0.000000</td>\n      <td>0.000000</td>\n      <td>0.000000</td>\n      <td>0.000000</td>\n      <td>0.000000</td>\n      <td>0.000000</td>\n      <td>0.000000</td>\n      <td>0.000000</td>\n      <td>0.000000</td>\n      <td>0.000000</td>\n      <td>0.000000</td>\n      <td>0.000000</td>\n      <td>0.000000</td>\n      <td>0.000000</td>\n      <td>0.000000</td>\n      <td>0.000000</td>\n      <td>3.000000</td>\n    </tr>\n    <tr>\n      <th>50%</th>\n      <td>178.100000</td>\n      <td>171.000000</td>\n      <td>61.000000</td>\n      <td>453.549422</td>\n      <td>45207.000000</td>\n      <td>2.664300e+04</td>\n      <td>15.900000</td>\n      <td>0.000000</td>\n      <td>41.000000</td>\n      <td>39.600000</td>\n      <td>42.400000</td>\n      <td>2.500000</td>\n      <td>52.400000</td>\n      <td>17.100000</td>\n      <td>34.700000</td>\n      <td>5.400000</td>\n      <td>35.300000</td>\n      <td>12.300000</td>\n      <td>7.600000</td>\n      <td>65.100000</td>\n      <td>41.100000</td>\n      <td>36.300000</td>\n      <td>18.800000</td>\n      <td>90.059774</td>\n      <td>2.247576</td>\n      <td>0.549812</td>\n      <td>0.826185</td>\n      <td>51.669941</td>\n      <td>5.381478</td>\n      <td>0.000000</td>\n      <td>0.000000</td>\n      <td>0.000000</td>\n      <td>0.000000</td>\n      <td>0.000000</td>\n      <td>0.000000</td>\n      <td>0.000000</td>\n      <td>0.000000</td>\n      <td>0.000000</td>\n      <td>0.000000</td>\n      <td>0.000000</td>\n      <td>0.000000</td>\n      <td>0.000000</td>\n      <td>0.000000</td>\n      <td>0.000000</td>\n      <td>0.000000</td>\n      <td>0.000000</td>\n      <td>0.000000</td>\n      <td>0.000000</td>\n      <td>0.000000</td>\n      <td>0.000000</td>\n      <td>0.000000</td>\n      <td>0.000000</td>\n      <td>0.000000</td>\n      <td>0.000000</td>\n      <td>0.000000</td>\n      <td>0.000000</td>\n      <td>0.000000</td>\n      <td>0.000000</td>\n      <td>0.000000</td>\n      <td>0.000000</td>\n      <td>0.000000</td>\n      <td>0.000000</td>\n      <td>0.000000</td>\n      <td>0.000000</td>\n      <td>0.000000</td>\n      <td>0.000000</td>\n      <td>0.000000</td>\n      <td>0.000000</td>\n      <td>0.000000</td>\n      <td>0.000000</td>\n      <td>0.000000</td>\n      <td>0.000000</td>\n      <td>0.000000</td>\n      <td>0.000000</td>\n      <td>0.000000</td>\n      <td>0.000000</td>\n      <td>0.000000</td>\n      <td>0.000000</td>\n      <td>0.000000</td>\n      <td>0.000000</td>\n      <td>6.000000</td>\n    </tr>\n    <tr>\n      <th>75%</th>\n      <td>195.200000</td>\n      <td>518.000000</td>\n      <td>149.000000</td>\n      <td>480.850000</td>\n      <td>52492.000000</td>\n      <td>6.867100e+04</td>\n      <td>20.400000</td>\n      <td>83.650776</td>\n      <td>43.900000</td>\n      <td>42.500000</td>\n      <td>45.300000</td>\n      <td>2.640000</td>\n      <td>56.400000</td>\n      <td>22.700000</td>\n      <td>40.700000</td>\n      <td>8.200000</td>\n      <td>39.650000</td>\n      <td>16.100000</td>\n      <td>9.700000</td>\n      <td>72.100000</td>\n      <td>47.700000</td>\n      <td>41.550000</td>\n      <td>23.100000</td>\n      <td>95.451693</td>\n      <td>10.509732</td>\n      <td>1.221037</td>\n      <td>2.177960</td>\n      <td>55.395132</td>\n      <td>6.493677</td>\n      <td>0.000000</td>\n      <td>0.000000</td>\n      <td>0.000000</td>\n      <td>0.000000</td>\n      <td>0.000000</td>\n      <td>0.000000</td>\n      <td>0.000000</td>\n      <td>0.000000</td>\n      <td>0.000000</td>\n      <td>0.000000</td>\n      <td>0.000000</td>\n      <td>0.000000</td>\n      <td>0.000000</td>\n      <td>0.000000</td>\n      <td>0.000000</td>\n      <td>0.000000</td>\n      <td>0.000000</td>\n      <td>0.000000</td>\n      <td>0.000000</td>\n      <td>0.000000</td>\n      <td>0.000000</td>\n      <td>0.000000</td>\n      <td>0.000000</td>\n      <td>0.000000</td>\n      <td>0.000000</td>\n      <td>0.000000</td>\n      <td>0.000000</td>\n      <td>0.000000</td>\n      <td>0.000000</td>\n      <td>0.000000</td>\n      <td>0.000000</td>\n      <td>0.000000</td>\n      <td>0.000000</td>\n      <td>0.000000</td>\n      <td>0.000000</td>\n      <td>0.000000</td>\n      <td>0.000000</td>\n      <td>0.000000</td>\n      <td>0.000000</td>\n      <td>0.000000</td>\n      <td>0.000000</td>\n      <td>0.000000</td>\n      <td>0.000000</td>\n      <td>0.000000</td>\n      <td>0.000000</td>\n      <td>0.000000</td>\n      <td>0.000000</td>\n      <td>0.000000</td>\n      <td>0.000000</td>\n      <td>0.000000</td>\n      <td>0.000000</td>\n      <td>8.000000</td>\n    </tr>\n    <tr>\n      <th>max</th>\n      <td>362.800000</td>\n      <td>38150.000000</td>\n      <td>14010.000000</td>\n      <td>1206.900000</td>\n      <td>125635.000000</td>\n      <td>1.017029e+07</td>\n      <td>47.400000</td>\n      <td>9762.308998</td>\n      <td>65.300000</td>\n      <td>64.700000</td>\n      <td>65.700000</td>\n      <td>3.970000</td>\n      <td>72.500000</td>\n      <td>64.100000</td>\n      <td>72.500000</td>\n      <td>51.800000</td>\n      <td>54.800000</td>\n      <td>42.200000</td>\n      <td>29.400000</td>\n      <td>92.300000</td>\n      <td>70.700000</td>\n      <td>65.100000</td>\n      <td>46.600000</td>\n      <td>100.000000</td>\n      <td>85.947799</td>\n      <td>42.619425</td>\n      <td>41.930251</td>\n      <td>78.075397</td>\n      <td>21.326165</td>\n      <td>1.000000</td>\n      <td>1.000000</td>\n      <td>1.000000</td>\n      <td>1.000000</td>\n      <td>1.000000</td>\n      <td>1.000000</td>\n      <td>1.000000</td>\n      <td>1.000000</td>\n      <td>1.000000</td>\n      <td>1.000000</td>\n      <td>1.000000</td>\n      <td>1.000000</td>\n      <td>1.000000</td>\n      <td>1.000000</td>\n      <td>1.000000</td>\n      <td>1.000000</td>\n      <td>1.000000</td>\n      <td>1.000000</td>\n      <td>1.000000</td>\n      <td>1.000000</td>\n      <td>1.000000</td>\n      <td>1.000000</td>\n      <td>1.000000</td>\n      <td>1.000000</td>\n      <td>1.000000</td>\n      <td>1.000000</td>\n      <td>1.000000</td>\n      <td>1.000000</td>\n      <td>1.000000</td>\n      <td>1.000000</td>\n      <td>1.000000</td>\n      <td>1.000000</td>\n      <td>1.000000</td>\n      <td>1.000000</td>\n      <td>1.000000</td>\n      <td>1.000000</td>\n      <td>1.000000</td>\n      <td>1.000000</td>\n      <td>1.000000</td>\n      <td>1.000000</td>\n      <td>1.000000</td>\n      <td>1.000000</td>\n      <td>1.000000</td>\n      <td>1.000000</td>\n      <td>1.000000</td>\n      <td>1.000000</td>\n      <td>1.000000</td>\n      <td>1.000000</td>\n      <td>1.000000</td>\n      <td>1.000000</td>\n      <td>1.000000</td>\n      <td>10.000000</td>\n    </tr>\n  </tbody>\n</table>\n</div>"
     },
     "metadata": {},
     "execution_count": 6
    }
   ],
   "source": [
    "df_base = df_base.drop(columns=['PctSomeCol18_24','PctPrivateCoverageAlone','PctEmployed16_Over','Geography','state','county','binnedInc']).dropna(how='any')\n",
    "df_all = pd.concat([df_base,df_state, df_binnedInc],axis=1)\n",
    "df_all.describe()"
   ]
  },
  {
   "cell_type": "code",
   "execution_count": 7,
   "metadata": {},
   "outputs": [
    {
     "output_type": "execute_result",
     "data": {
      "text/plain": [
       "array([[ 0.,  0.,  0., ...,  0.,  0., 10.],\n",
       "       [ 0.,  0.,  0., ...,  0.,  0.,  7.],\n",
       "       [ 0.,  0.,  0., ...,  0.,  0.,  7.],\n",
       "       ...,\n",
       "       [ 0.,  0.,  0., ...,  0.,  0.,  8.],\n",
       "       [ 0.,  0.,  0., ...,  0.,  0.,  7.],\n",
       "       [ 0.,  0.,  0., ...,  0.,  0.,  4.]])"
      ]
     },
     "metadata": {},
     "execution_count": 7
    }
   ],
   "source": [
    "df_all.iloc[:,-52:].values"
   ]
  },
  {
   "cell_type": "code",
   "execution_count": 8,
   "metadata": {},
   "outputs": [],
   "source": [
    "from sklearn.preprocessing import StandardScaler\n",
    "from sklearn.preprocessing import MinMaxScaler\n",
    "\n",
    "# X_base and y_base are for data prepared/extracted from assignment B\n",
    "X_base = df_base.iloc[:,1:].values\n",
    "y_base = df_base.iloc[:,0].values\n",
    "\n",
    "# X_all and y_all are for X_base and y_base plus one-hot encoded \"geography\" and mapped \"binnedInc\"\n",
    "X_all = df_all.iloc[:,1:].values\n",
    "y_all = df_all.iloc[:,0].values\n",
    "\n",
    "# X_ss and y_ss are for StandardScaler\n",
    "X_ss = StandardScaler().fit_transform(X_all)\n",
    "y_ss = StandardScaler().fit_transform(y_all.reshape(len(y_all),1))\n",
    "\n",
    "# X_base_ss and y_base_ss are for StandardScaler\n",
    "X_base_ss = StandardScaler().fit_transform(X_base)\n",
    "y_base_ss = StandardScaler().fit_transform(y_base.reshape(len(y_base),1))"
   ]
  },
  {
   "source": [
    "## Run Linear Regression\n",
    "Run the multivariate linear regression on against TARGET_deathRate to get baseline. Then run cross-validation for new baseline as we will be using cross validation plus MSE to measure our model performance.\n",
    "\n",
    "Then print out the r2 score and MSE."
   ],
   "cell_type": "markdown",
   "metadata": {}
  },
  {
   "source": [
    "### Create getScore(X,y) method for reuse\n",
    "Set up a method to split the preprocessed data into training (80%) and testing (20%) set, and then run linear regression on the training set while printing out the R Square score and MSE using the testing set."
   ],
   "cell_type": "markdown",
   "metadata": {}
  },
  {
   "cell_type": "code",
   "execution_count": 9,
   "metadata": {},
   "outputs": [
    {
     "output_type": "stream",
     "name": "stdout",
     "text": [
      "Score is 0.5640\nTraining set MSE is 376.0007\nTesting set MSE is 343.9928\n"
     ]
    },
    {
     "output_type": "execute_result",
     "data": {
      "text/plain": [
       "0.5639999062278258"
      ]
     },
     "metadata": {},
     "execution_count": 9
    }
   ],
   "source": [
    "from sklearn.linear_model import LinearRegression\n",
    "from sklearn.metrics import mean_squared_error as mse\n",
    "from sklearn.model_selection import train_test_split\n",
    "\n",
    "def getManualScore(X,y):\n",
    "    X_train, X_test, y_train, y_test = train_test_split(X, y, test_size = 0.2, random_state = 0)\n",
    "    reg = LinearRegression()\n",
    "    reg.fit(X_train,y_train)\n",
    "    print(\"Score is %.4f\" % reg.score(X_test,y_test))\n",
    "    print(\"Training set MSE is %.4f\" % mse(y_train, reg.predict(X_train)))\n",
    "    print(\"Testing set MSE is %.4f\" % mse(y_test, reg.predict(X_test)))\n",
    "    return reg.score(X_test,y_test)\n",
    "\n",
    "getManualScore(X_base, y_base)\n"
   ]
  },
  {
   "cell_type": "code",
   "execution_count": 10,
   "metadata": {},
   "outputs": [
    {
     "output_type": "stream",
     "name": "stdout",
     "text": [
      "R2 Score is 0.5640\nTraining set MSE is 0.4917\nTesting set MSE is 0.4498\n"
     ]
    },
    {
     "output_type": "execute_result",
     "data": {
      "text/plain": [
       "LinearRegression()"
      ]
     },
     "metadata": {},
     "execution_count": 10
    }
   ],
   "source": [
    "def getScore(X,y,model):\n",
    "    X_train, X_test, y_train, y_test = train_test_split(X, y, test_size = 0.2, random_state = 0)\n",
    "    SSx = StandardScaler().fit(X_train)\n",
    "    SSy = StandardScaler().fit(y_train.reshape(len(y_train),1))\n",
    "    X_train = SSx.transform(X_train)\n",
    "    y_train = SSy.transform(y_train.reshape(len(y_train),1))\n",
    "    X_test = SSx.transform(X_test)\n",
    "    y_test = SSy.transform(y_test.reshape(len(y_test),1))\n",
    "    \n",
    "    model.fit(X_train,y_train)\n",
    "    print(\"R2 Score is %.4f\" % model.score(X_test,y_test))\n",
    "    print(\"Training set MSE is %.4f\" % mse(y_train, model.predict(X_train)))\n",
    "    print(\"Testing set MSE is %.4f\" % mse(y_test, model.predict(X_test)))\n",
    "    return model\n",
    "\n",
    "getScore(X_base, y_base, LinearRegression())"
   ]
  },
  {
   "source": [
    "Here we use StandardScaler for training set only, and then transform test set using the same scaler to avoid data leakage.\n",
    "\n",
    "We can see the R2 score is about the same, but the MSE is different due to the standardization."
   ],
   "cell_type": "markdown",
   "metadata": {}
  },
  {
   "cell_type": "code",
   "execution_count": 11,
   "metadata": {},
   "outputs": [
    {
     "output_type": "stream",
     "name": "stdout",
     "text": [
      "R2 Score is 0.4751\nTraining set MSE is 0.4759\nTesting set MSE is 0.5164\n"
     ]
    }
   ],
   "source": [
    "from sklearn.model_selection import KFold \n",
    "\n",
    "def performCV(X,y,model):\n",
    "    kf = KFold(n_splits=5, random_state=None) \n",
    "    r2_test = []\n",
    "    mse_test = []\n",
    "    mse_train = []\n",
    "\n",
    "    for train_index , test_index in kf.split(X):\n",
    "        X_train , X_test = X[train_index,:],X[test_index,:]\n",
    "        y_train , y_test = y[train_index] , y[test_index]\n",
    "        SSx = StandardScaler().fit(X_train)\n",
    "        SSy = StandardScaler().fit(y_train.reshape(len(y_train),1))\n",
    "        X_train = SSx.transform(X_train)\n",
    "        y_train = SSy.transform(y_train.reshape(len(y_train),1))\n",
    "        X_test = SSx.transform(X_test)\n",
    "        y_test = SSy.transform(y_test.reshape(len(y_test),1))\n",
    "        model.fit(X_train,y_train)\n",
    "        r2_test.append(model.score(X_test,y_test))\n",
    "        mse_test.append(mse(y_test, model.predict(X_test)))\n",
    "        mse_train.append(mse(y_train, model.predict(X_train)))\n",
    "    r2score=sum(r2_test)/5\n",
    "    mse_test_score=sum(mse_test)/5\n",
    "    mse_train_score=sum(mse_train)/5\n",
    "    print(\"R2 Score is %.4f\" % r2score)\n",
    "    print(\"Training set MSE is %.4f\" % mse_train_score)\n",
    "    print(\"Testing set MSE is %.4f\" % mse_test_score)\n",
    "\n",
    "performCV(X_base, y_base, LinearRegression())"
   ]
  },
  {
   "cell_type": "code",
   "execution_count": 12,
   "metadata": {},
   "outputs": [
    {
     "output_type": "stream",
     "name": "stdout",
     "text": [
      "R2 score is -10253286208494751491031040.0000\nTraining set MSE is -0.4061\nTesting set MSE is -10635994002028504679448576.0000\n"
     ]
    },
    {
     "output_type": "execute_result",
     "data": {
      "text/plain": [
       "-1.0253286208494751e+25"
      ]
     },
     "metadata": {},
     "execution_count": 12
    }
   ],
   "source": [
    "from sklearn.model_selection import cross_validate\n",
    "\n",
    "def getCVScore(X,y,mode):\n",
    "    kf = KFold(n_splits=5)\n",
    "    scores = cross_validate(mode, X, y, cv=kf,\n",
    "             scoring=('r2', 'neg_mean_squared_error'),\n",
    "             return_train_score=True)\n",
    "    print(\"R2 score is %.4f\" % scores['test_r2'].mean())\n",
    "    print(\"Training set MSE is %.4f\" % scores['train_neg_mean_squared_error'].mean())\n",
    "    print(\"Testing set MSE is %.4f\" % scores['test_neg_mean_squared_error'].mean())\n",
    "    return scores['test_r2'].mean()\n",
    "\n",
    "getCVScore(X_ss,y_ss,LinearRegression())\n"
   ]
  },
  {
   "cell_type": "code",
   "execution_count": 13,
   "metadata": {},
   "outputs": [
    {
     "output_type": "stream",
     "name": "stdout",
     "text": [
      "R2 Score is -673763315015156907376640.0000\nTraining set MSE is 0.4068\nTesting set MSE is 669451877048378086916096.0000\n"
     ]
    }
   ],
   "source": [
    "performCV(X_all, y_all, LinearRegression())"
   ]
  },
  {
   "cell_type": "code",
   "execution_count": 14,
   "metadata": {},
   "outputs": [
    {
     "output_type": "stream",
     "name": "stdout",
     "text": [
      "R2 Score is -8616755731612977594368.0000\nTraining set MSE is 0.4421\nTesting set MSE is 9762714617283428220928.0000\n"
     ]
    }
   ],
   "source": [
    "performCV(X_all[:,:-28], y_all, LinearRegression())"
   ]
  },
  {
   "source": [
    "The cross validation split the data into 5 different combination of training and test sets, and we use the mean of results from all combination as the final score of the performance of the model.\n",
    "\n",
    "We can see the value is very off after cross validation with all features.\n",
    "\n",
    "It is actually not right to standardize both training set and testing set together, because it causes the data leakage as testing set should be unseen data."
   ],
   "cell_type": "markdown",
   "metadata": {}
  },
  {
   "cell_type": "code",
   "execution_count": 15,
   "metadata": {},
   "outputs": [
    {
     "output_type": "stream",
     "name": "stdout",
     "text": [
      "R2 Score is 0.6051\nTraining set MSE is 0.4177\nTesting set MSE is 0.4075\n"
     ]
    },
    {
     "output_type": "execute_result",
     "data": {
      "text/plain": [
       "LinearRegression()"
      ]
     },
     "metadata": {},
     "execution_count": 15
    }
   ],
   "source": [
    "getScore(X_all, y_all, LinearRegression())"
   ]
  },
  {
   "cell_type": "code",
   "execution_count": 16,
   "metadata": {},
   "outputs": [
    {
     "output_type": "stream",
     "name": "stdout",
     "text": [
      "R2 Score is 0.6051\nTraining set MSE is 0.4177\nTesting set MSE is 0.4074\n"
     ]
    },
    {
     "output_type": "execute_result",
     "data": {
      "text/plain": [
       "LinearRegression(fit_intercept=False)"
      ]
     },
     "metadata": {},
     "execution_count": 16
    }
   ],
   "source": [
    "getScore(X_all, y_all, LinearRegression(fit_intercept=False))"
   ]
  },
  {
   "source": [
    "When we include one-hot encoded Geography feature and mapped binnednc, we can see the performance has improved for both training MSE and test MSE. However, the difference between training and test set is much bigger, which shows the model is overfitting.\n",
    "\n",
    "**New Baseline** -\n",
    "R2 Score is 0.6050\n",
    "Training set MSE is 0.4177\n",
    "Testing set MSE is 0.4075"
   ],
   "cell_type": "markdown",
   "metadata": {}
  },
  {
   "source": [
    "## Use different regression models\n",
    "In following sections, we will be experimenting different models and hyper parameter tuning in pursue a model with better performance and less overfitting that can be a candidate for Production."
   ],
   "cell_type": "markdown",
   "metadata": {}
  },
  {
   "source": [
    "### Random Forest Regression\n",
    "We will be using random forest regression model in this section and see the performance."
   ],
   "cell_type": "markdown",
   "metadata": {}
  },
  {
   "cell_type": "code",
   "execution_count": 17,
   "metadata": {},
   "outputs": [
    {
     "output_type": "stream",
     "name": "stderr",
     "text": [
      "<ipython-input-11-4fcd042bcad9>:18: DataConversionWarning: A column-vector y was passed when a 1d array was expected. Please change the shape of y to (n_samples,), for example using ravel().\n",
      "  model.fit(X_train,y_train)\n",
      "<ipython-input-11-4fcd042bcad9>:18: DataConversionWarning: A column-vector y was passed when a 1d array was expected. Please change the shape of y to (n_samples,), for example using ravel().\n",
      "  model.fit(X_train,y_train)\n",
      "<ipython-input-11-4fcd042bcad9>:18: DataConversionWarning: A column-vector y was passed when a 1d array was expected. Please change the shape of y to (n_samples,), for example using ravel().\n",
      "  model.fit(X_train,y_train)\n",
      "<ipython-input-11-4fcd042bcad9>:18: DataConversionWarning: A column-vector y was passed when a 1d array was expected. Please change the shape of y to (n_samples,), for example using ravel().\n",
      "  model.fit(X_train,y_train)\n",
      "<ipython-input-11-4fcd042bcad9>:18: DataConversionWarning: A column-vector y was passed when a 1d array was expected. Please change the shape of y to (n_samples,), for example using ravel().\n",
      "  model.fit(X_train,y_train)\n",
      "R2 Score is 0.5185\n",
      "Training set MSE is 0.0628\n",
      "Testing set MSE is 0.4744\n"
     ]
    }
   ],
   "source": [
    "from sklearn.ensemble import RandomForestRegressor\n",
    "\n",
    "model = RandomForestRegressor()\n",
    "performCV(X_all,y_all,model)"
   ]
  },
  {
   "source": [
    "We can see the training set MSE is very low, but the testing set MSE is quite high. This shows the model is very overfitting. We need to explore hyperparameter to bring up the consistency. \n",
    "\n",
    "We start with max_depth"
   ],
   "cell_type": "markdown",
   "metadata": {}
  },
  {
   "cell_type": "code",
   "execution_count": 18,
   "metadata": {},
   "outputs": [
    {
     "output_type": "stream",
     "name": "stderr",
     "text": [
      "<ipython-input-11-4fcd042bcad9>:18: DataConversionWarning: A column-vector y was passed when a 1d array was expected. Please change the shape of y to (n_samples,), for example using ravel().\n",
      "  model.fit(X_train,y_train)\n",
      "<ipython-input-11-4fcd042bcad9>:18: DataConversionWarning: A column-vector y was passed when a 1d array was expected. Please change the shape of y to (n_samples,), for example using ravel().\n",
      "  model.fit(X_train,y_train)\n",
      "<ipython-input-11-4fcd042bcad9>:18: DataConversionWarning: A column-vector y was passed when a 1d array was expected. Please change the shape of y to (n_samples,), for example using ravel().\n",
      "  model.fit(X_train,y_train)\n",
      "<ipython-input-11-4fcd042bcad9>:18: DataConversionWarning: A column-vector y was passed when a 1d array was expected. Please change the shape of y to (n_samples,), for example using ravel().\n",
      "  model.fit(X_train,y_train)\n",
      "<ipython-input-11-4fcd042bcad9>:18: DataConversionWarning: A column-vector y was passed when a 1d array was expected. Please change the shape of y to (n_samples,), for example using ravel().\n",
      "  model.fit(X_train,y_train)\n",
      "R2 Score is 0.5200\n",
      "Training set MSE is 0.0733\n",
      "Testing set MSE is 0.4734\n"
     ]
    }
   ],
   "source": [
    "model = RandomForestRegressor(max_depth=15)\n",
    "performCV(X_all,y_all,model)"
   ]
  },
  {
   "source": [
    "It is still too overfitting."
   ],
   "cell_type": "markdown",
   "metadata": {}
  },
  {
   "cell_type": "code",
   "execution_count": 19,
   "metadata": {},
   "outputs": [
    {
     "output_type": "stream",
     "name": "stderr",
     "text": [
      "<ipython-input-11-4fcd042bcad9>:18: DataConversionWarning: A column-vector y was passed when a 1d array was expected. Please change the shape of y to (n_samples,), for example using ravel().\n",
      "  model.fit(X_train,y_train)\n",
      "<ipython-input-11-4fcd042bcad9>:18: DataConversionWarning: A column-vector y was passed when a 1d array was expected. Please change the shape of y to (n_samples,), for example using ravel().\n",
      "  model.fit(X_train,y_train)\n",
      "<ipython-input-11-4fcd042bcad9>:18: DataConversionWarning: A column-vector y was passed when a 1d array was expected. Please change the shape of y to (n_samples,), for example using ravel().\n",
      "  model.fit(X_train,y_train)\n",
      "<ipython-input-11-4fcd042bcad9>:18: DataConversionWarning: A column-vector y was passed when a 1d array was expected. Please change the shape of y to (n_samples,), for example using ravel().\n",
      "  model.fit(X_train,y_train)\n",
      "<ipython-input-11-4fcd042bcad9>:18: DataConversionWarning: A column-vector y was passed when a 1d array was expected. Please change the shape of y to (n_samples,), for example using ravel().\n",
      "  model.fit(X_train,y_train)\n",
      "R2 Score is 0.4647\n",
      "Training set MSE is 0.3833\n",
      "Testing set MSE is 0.5282\n"
     ]
    }
   ],
   "source": [
    "model = RandomForestRegressor(max_depth=5)\n",
    "performCV(X_all,y_all,model)"
   ]
  },
  {
   "cell_type": "code",
   "execution_count": 20,
   "metadata": {},
   "outputs": [
    {
     "output_type": "stream",
     "name": "stderr",
     "text": [
      "<ipython-input-11-4fcd042bcad9>:18: DataConversionWarning: A column-vector y was passed when a 1d array was expected. Please change the shape of y to (n_samples,), for example using ravel().\n",
      "  model.fit(X_train,y_train)\n",
      "<ipython-input-11-4fcd042bcad9>:18: DataConversionWarning: A column-vector y was passed when a 1d array was expected. Please change the shape of y to (n_samples,), for example using ravel().\n",
      "  model.fit(X_train,y_train)\n",
      "<ipython-input-11-4fcd042bcad9>:18: DataConversionWarning: A column-vector y was passed when a 1d array was expected. Please change the shape of y to (n_samples,), for example using ravel().\n",
      "  model.fit(X_train,y_train)\n",
      "<ipython-input-11-4fcd042bcad9>:18: DataConversionWarning: A column-vector y was passed when a 1d array was expected. Please change the shape of y to (n_samples,), for example using ravel().\n",
      "  model.fit(X_train,y_train)\n",
      "<ipython-input-11-4fcd042bcad9>:18: DataConversionWarning: A column-vector y was passed when a 1d array was expected. Please change the shape of y to (n_samples,), for example using ravel().\n",
      "  model.fit(X_train,y_train)\n",
      "R2 Score is 0.3104\n",
      "Training set MSE is 0.6379\n",
      "Testing set MSE is 0.6818\n"
     ]
    }
   ],
   "source": [
    "model = RandomForestRegressor(max_depth=2)\n",
    "performCV(X_all,y_all,model)"
   ]
  },
  {
   "source": [
    "Now the consistency is close, but the model is underfitting. We will use max_depth = 5 along with other hyperparameters"
   ],
   "cell_type": "markdown",
   "metadata": {}
  },
  {
   "cell_type": "code",
   "execution_count": 21,
   "metadata": {},
   "outputs": [
    {
     "output_type": "stream",
     "name": "stderr",
     "text": [
      "<ipython-input-11-4fcd042bcad9>:18: DataConversionWarning: A column-vector y was passed when a 1d array was expected. Please change the shape of y to (n_samples,), for example using ravel().\n",
      "  model.fit(X_train,y_train)\n",
      "<ipython-input-11-4fcd042bcad9>:18: DataConversionWarning: A column-vector y was passed when a 1d array was expected. Please change the shape of y to (n_samples,), for example using ravel().\n",
      "  model.fit(X_train,y_train)\n",
      "<ipython-input-11-4fcd042bcad9>:18: DataConversionWarning: A column-vector y was passed when a 1d array was expected. Please change the shape of y to (n_samples,), for example using ravel().\n",
      "  model.fit(X_train,y_train)\n",
      "<ipython-input-11-4fcd042bcad9>:18: DataConversionWarning: A column-vector y was passed when a 1d array was expected. Please change the shape of y to (n_samples,), for example using ravel().\n",
      "  model.fit(X_train,y_train)\n",
      "<ipython-input-11-4fcd042bcad9>:18: DataConversionWarning: A column-vector y was passed when a 1d array was expected. Please change the shape of y to (n_samples,), for example using ravel().\n",
      "  model.fit(X_train,y_train)\n",
      "R2 Score is 0.4527\n",
      "Training set MSE is 0.4316\n",
      "Testing set MSE is 0.5402\n"
     ]
    }
   ],
   "source": [
    "model = RandomForestRegressor(max_depth=5, min_samples_split=100)\n",
    "performCV(X_all,y_all,model)"
   ]
  },
  {
   "cell_type": "code",
   "execution_count": 22,
   "metadata": {},
   "outputs": [
    {
     "output_type": "stream",
     "name": "stderr",
     "text": [
      "<ipython-input-11-4fcd042bcad9>:18: DataConversionWarning: A column-vector y was passed when a 1d array was expected. Please change the shape of y to (n_samples,), for example using ravel().\n",
      "  model.fit(X_train,y_train)\n",
      "<ipython-input-11-4fcd042bcad9>:18: DataConversionWarning: A column-vector y was passed when a 1d array was expected. Please change the shape of y to (n_samples,), for example using ravel().\n",
      "  model.fit(X_train,y_train)\n",
      "<ipython-input-11-4fcd042bcad9>:18: DataConversionWarning: A column-vector y was passed when a 1d array was expected. Please change the shape of y to (n_samples,), for example using ravel().\n",
      "  model.fit(X_train,y_train)\n",
      "<ipython-input-11-4fcd042bcad9>:18: DataConversionWarning: A column-vector y was passed when a 1d array was expected. Please change the shape of y to (n_samples,), for example using ravel().\n",
      "  model.fit(X_train,y_train)\n",
      "<ipython-input-11-4fcd042bcad9>:18: DataConversionWarning: A column-vector y was passed when a 1d array was expected. Please change the shape of y to (n_samples,), for example using ravel().\n",
      "  model.fit(X_train,y_train)\n",
      "R2 Score is 0.4321\n",
      "Training set MSE is 0.4709\n",
      "Testing set MSE is 0.5599\n"
     ]
    }
   ],
   "source": [
    "model = RandomForestRegressor(max_depth=5, min_samples_split=200)\n",
    "performCV(X_all,y_all,model)"
   ]
  },
  {
   "cell_type": "code",
   "execution_count": 23,
   "metadata": {},
   "outputs": [
    {
     "output_type": "stream",
     "name": "stderr",
     "text": [
      "<ipython-input-11-4fcd042bcad9>:18: DataConversionWarning: A column-vector y was passed when a 1d array was expected. Please change the shape of y to (n_samples,), for example using ravel().\n",
      "  model.fit(X_train,y_train)\n",
      "<ipython-input-11-4fcd042bcad9>:18: DataConversionWarning: A column-vector y was passed when a 1d array was expected. Please change the shape of y to (n_samples,), for example using ravel().\n",
      "  model.fit(X_train,y_train)\n",
      "<ipython-input-11-4fcd042bcad9>:18: DataConversionWarning: A column-vector y was passed when a 1d array was expected. Please change the shape of y to (n_samples,), for example using ravel().\n",
      "  model.fit(X_train,y_train)\n",
      "<ipython-input-11-4fcd042bcad9>:18: DataConversionWarning: A column-vector y was passed when a 1d array was expected. Please change the shape of y to (n_samples,), for example using ravel().\n",
      "  model.fit(X_train,y_train)\n",
      "<ipython-input-11-4fcd042bcad9>:18: DataConversionWarning: A column-vector y was passed when a 1d array was expected. Please change the shape of y to (n_samples,), for example using ravel().\n",
      "  model.fit(X_train,y_train)\n",
      "R2 Score is 0.4127\n",
      "Training set MSE is 0.5229\n",
      "Testing set MSE is 0.5789\n"
     ]
    }
   ],
   "source": [
    "model = RandomForestRegressor(max_depth=5, min_samples_split=100, min_samples_leaf=100)\n",
    "performCV(X_all,y_all,model)"
   ]
  },
  {
   "cell_type": "code",
   "execution_count": 24,
   "metadata": {},
   "outputs": [
    {
     "output_type": "stream",
     "name": "stderr",
     "text": [
      "<ipython-input-11-4fcd042bcad9>:18: DataConversionWarning: A column-vector y was passed when a 1d array was expected. Please change the shape of y to (n_samples,), for example using ravel().\n",
      "  model.fit(X_train,y_train)\n",
      "<ipython-input-11-4fcd042bcad9>:18: DataConversionWarning: A column-vector y was passed when a 1d array was expected. Please change the shape of y to (n_samples,), for example using ravel().\n",
      "  model.fit(X_train,y_train)\n",
      "<ipython-input-11-4fcd042bcad9>:18: DataConversionWarning: A column-vector y was passed when a 1d array was expected. Please change the shape of y to (n_samples,), for example using ravel().\n",
      "  model.fit(X_train,y_train)\n",
      "<ipython-input-11-4fcd042bcad9>:18: DataConversionWarning: A column-vector y was passed when a 1d array was expected. Please change the shape of y to (n_samples,), for example using ravel().\n",
      "  model.fit(X_train,y_train)\n",
      "<ipython-input-11-4fcd042bcad9>:18: DataConversionWarning: A column-vector y was passed when a 1d array was expected. Please change the shape of y to (n_samples,), for example using ravel().\n",
      "  model.fit(X_train,y_train)\n",
      "R2 Score is 0.4512\n",
      "Training set MSE is 0.4624\n",
      "Testing set MSE is 0.5413\n"
     ]
    }
   ],
   "source": [
    "model = RandomForestRegressor(max_depth=5, min_samples_split=100, min_samples_leaf=50)\n",
    "performCV(X_all,y_all,model)"
   ]
  },
  {
   "cell_type": "code",
   "execution_count": 25,
   "metadata": {},
   "outputs": [
    {
     "output_type": "stream",
     "name": "stderr",
     "text": [
      "<ipython-input-11-4fcd042bcad9>:18: DataConversionWarning: A column-vector y was passed when a 1d array was expected. Please change the shape of y to (n_samples,), for example using ravel().\n",
      "  model.fit(X_train,y_train)\n",
      "<ipython-input-11-4fcd042bcad9>:18: DataConversionWarning: A column-vector y was passed when a 1d array was expected. Please change the shape of y to (n_samples,), for example using ravel().\n",
      "  model.fit(X_train,y_train)\n",
      "<ipython-input-11-4fcd042bcad9>:18: DataConversionWarning: A column-vector y was passed when a 1d array was expected. Please change the shape of y to (n_samples,), for example using ravel().\n",
      "  model.fit(X_train,y_train)\n",
      "<ipython-input-11-4fcd042bcad9>:18: DataConversionWarning: A column-vector y was passed when a 1d array was expected. Please change the shape of y to (n_samples,), for example using ravel().\n",
      "  model.fit(X_train,y_train)\n",
      "<ipython-input-11-4fcd042bcad9>:18: DataConversionWarning: A column-vector y was passed when a 1d array was expected. Please change the shape of y to (n_samples,), for example using ravel().\n",
      "  model.fit(X_train,y_train)\n",
      "R2 Score is 0.4543\n",
      "Training set MSE is 0.4505\n",
      "Testing set MSE is 0.5384\n"
     ]
    }
   ],
   "source": [
    "model = RandomForestRegressor(max_depth=5, min_samples_split=100, min_samples_leaf=30)\n",
    "performCV(X_all,y_all,model)"
   ]
  },
  {
   "cell_type": "code",
   "execution_count": 26,
   "metadata": {},
   "outputs": [
    {
     "output_type": "stream",
     "name": "stderr",
     "text": [
      "<ipython-input-11-4fcd042bcad9>:18: DataConversionWarning: A column-vector y was passed when a 1d array was expected. Please change the shape of y to (n_samples,), for example using ravel().\n",
      "  model.fit(X_train,y_train)\n",
      "<ipython-input-11-4fcd042bcad9>:18: DataConversionWarning: A column-vector y was passed when a 1d array was expected. Please change the shape of y to (n_samples,), for example using ravel().\n",
      "  model.fit(X_train,y_train)\n",
      "<ipython-input-11-4fcd042bcad9>:18: DataConversionWarning: A column-vector y was passed when a 1d array was expected. Please change the shape of y to (n_samples,), for example using ravel().\n",
      "  model.fit(X_train,y_train)\n",
      "<ipython-input-11-4fcd042bcad9>:18: DataConversionWarning: A column-vector y was passed when a 1d array was expected. Please change the shape of y to (n_samples,), for example using ravel().\n",
      "  model.fit(X_train,y_train)\n",
      "<ipython-input-11-4fcd042bcad9>:18: DataConversionWarning: A column-vector y was passed when a 1d array was expected. Please change the shape of y to (n_samples,), for example using ravel().\n",
      "  model.fit(X_train,y_train)\n",
      "R2 Score is 0.4551\n",
      "Training set MSE is 0.4482\n",
      "Testing set MSE is 0.5376\n"
     ]
    }
   ],
   "source": [
    "model = RandomForestRegressor(n_estimators=200 ,max_features='auto', max_depth=5, min_samples_split=100, min_samples_leaf=30)\n",
    "performCV(X_all,y_all,model)"
   ]
  },
  {
   "source": [
    "### Support Vector Regression\n",
    "Try SVR in this section"
   ],
   "cell_type": "markdown",
   "metadata": {}
  },
  {
   "cell_type": "code",
   "execution_count": 27,
   "metadata": {},
   "outputs": [
    {
     "output_type": "stream",
     "name": "stderr",
     "text": [
      "/opt/homebrew/Caskroom/miniforge/base/envs/uts/lib/python3.8/site-packages/sklearn/utils/validation.py:63: DataConversionWarning: A column-vector y was passed when a 1d array was expected. Please change the shape of y to (n_samples, ), for example using ravel().\n",
      "  return f(*args, **kwargs)\n",
      "/opt/homebrew/Caskroom/miniforge/base/envs/uts/lib/python3.8/site-packages/sklearn/utils/validation.py:63: DataConversionWarning: A column-vector y was passed when a 1d array was expected. Please change the shape of y to (n_samples, ), for example using ravel().\n",
      "  return f(*args, **kwargs)\n",
      "/opt/homebrew/Caskroom/miniforge/base/envs/uts/lib/python3.8/site-packages/sklearn/utils/validation.py:63: DataConversionWarning: A column-vector y was passed when a 1d array was expected. Please change the shape of y to (n_samples, ), for example using ravel().\n",
      "  return f(*args, **kwargs)\n",
      "/opt/homebrew/Caskroom/miniforge/base/envs/uts/lib/python3.8/site-packages/sklearn/utils/validation.py:63: DataConversionWarning: A column-vector y was passed when a 1d array was expected. Please change the shape of y to (n_samples, ), for example using ravel().\n",
      "  return f(*args, **kwargs)\n",
      "/opt/homebrew/Caskroom/miniforge/base/envs/uts/lib/python3.8/site-packages/sklearn/utils/validation.py:63: DataConversionWarning: A column-vector y was passed when a 1d array was expected. Please change the shape of y to (n_samples, ), for example using ravel().\n",
      "  return f(*args, **kwargs)\n",
      "R2 Score is 0.4680\n",
      "Training set MSE is 0.3059\n",
      "Testing set MSE is 0.5235\n"
     ]
    }
   ],
   "source": [
    "from sklearn.svm import SVR\n",
    "\n",
    "model = SVR(kernel = 'rbf')\n",
    "performCV(X_all,y_all,model)\n"
   ]
  },
  {
   "cell_type": "code",
   "execution_count": 28,
   "metadata": {},
   "outputs": [
    {
     "output_type": "stream",
     "name": "stderr",
     "text": [
      "/opt/homebrew/Caskroom/miniforge/base/envs/uts/lib/python3.8/site-packages/sklearn/utils/validation.py:63: DataConversionWarning: A column-vector y was passed when a 1d array was expected. Please change the shape of y to (n_samples, ), for example using ravel().\n",
      "  return f(*args, **kwargs)\n",
      "/opt/homebrew/Caskroom/miniforge/base/envs/uts/lib/python3.8/site-packages/sklearn/utils/validation.py:63: DataConversionWarning: A column-vector y was passed when a 1d array was expected. Please change the shape of y to (n_samples, ), for example using ravel().\n",
      "  return f(*args, **kwargs)\n",
      "/opt/homebrew/Caskroom/miniforge/base/envs/uts/lib/python3.8/site-packages/sklearn/utils/validation.py:63: DataConversionWarning: A column-vector y was passed when a 1d array was expected. Please change the shape of y to (n_samples, ), for example using ravel().\n",
      "  return f(*args, **kwargs)\n",
      "/opt/homebrew/Caskroom/miniforge/base/envs/uts/lib/python3.8/site-packages/sklearn/utils/validation.py:63: DataConversionWarning: A column-vector y was passed when a 1d array was expected. Please change the shape of y to (n_samples, ), for example using ravel().\n",
      "  return f(*args, **kwargs)\n",
      "/opt/homebrew/Caskroom/miniforge/base/envs/uts/lib/python3.8/site-packages/sklearn/utils/validation.py:63: DataConversionWarning: A column-vector y was passed when a 1d array was expected. Please change the shape of y to (n_samples, ), for example using ravel().\n",
      "  return f(*args, **kwargs)\n",
      "R2 Score is 0.5019\n",
      "Training set MSE is 0.4155\n",
      "Testing set MSE is 0.4889\n"
     ]
    }
   ],
   "source": [
    "model = SVR(kernel = 'linear')\n",
    "performCV(X_all,y_all,model)"
   ]
  },
  {
   "cell_type": "code",
   "execution_count": 29,
   "metadata": {},
   "outputs": [
    {
     "output_type": "stream",
     "name": "stderr",
     "text": [
      "/opt/homebrew/Caskroom/miniforge/base/envs/uts/lib/python3.8/site-packages/sklearn/utils/validation.py:63: DataConversionWarning: A column-vector y was passed when a 1d array was expected. Please change the shape of y to (n_samples, ), for example using ravel().\n",
      "  return f(*args, **kwargs)\n",
      "/opt/homebrew/Caskroom/miniforge/base/envs/uts/lib/python3.8/site-packages/sklearn/utils/validation.py:63: DataConversionWarning: A column-vector y was passed when a 1d array was expected. Please change the shape of y to (n_samples, ), for example using ravel().\n",
      "  return f(*args, **kwargs)\n",
      "/opt/homebrew/Caskroom/miniforge/base/envs/uts/lib/python3.8/site-packages/sklearn/utils/validation.py:63: DataConversionWarning: A column-vector y was passed when a 1d array was expected. Please change the shape of y to (n_samples, ), for example using ravel().\n",
      "  return f(*args, **kwargs)\n",
      "/opt/homebrew/Caskroom/miniforge/base/envs/uts/lib/python3.8/site-packages/sklearn/utils/validation.py:63: DataConversionWarning: A column-vector y was passed when a 1d array was expected. Please change the shape of y to (n_samples, ), for example using ravel().\n",
      "  return f(*args, **kwargs)\n",
      "/opt/homebrew/Caskroom/miniforge/base/envs/uts/lib/python3.8/site-packages/sklearn/utils/validation.py:63: DataConversionWarning: A column-vector y was passed when a 1d array was expected. Please change the shape of y to (n_samples, ), for example using ravel().\n",
      "  return f(*args, **kwargs)\n",
      "R2 Score is -19.9812\n",
      "Training set MSE is 20.2363\n",
      "Testing set MSE is 21.9596\n"
     ]
    }
   ],
   "source": [
    "model = SVR(kernel = 'sigmoid')\n",
    "performCV(X_all,y_all,model)"
   ]
  },
  {
   "cell_type": "code",
   "execution_count": 30,
   "metadata": {},
   "outputs": [
    {
     "output_type": "stream",
     "name": "stderr",
     "text": [
      "/opt/homebrew/Caskroom/miniforge/base/envs/uts/lib/python3.8/site-packages/sklearn/utils/validation.py:63: DataConversionWarning: A column-vector y was passed when a 1d array was expected. Please change the shape of y to (n_samples, ), for example using ravel().\n",
      "  return f(*args, **kwargs)\n",
      "/opt/homebrew/Caskroom/miniforge/base/envs/uts/lib/python3.8/site-packages/sklearn/utils/validation.py:63: DataConversionWarning: A column-vector y was passed when a 1d array was expected. Please change the shape of y to (n_samples, ), for example using ravel().\n",
      "  return f(*args, **kwargs)\n",
      "/opt/homebrew/Caskroom/miniforge/base/envs/uts/lib/python3.8/site-packages/sklearn/utils/validation.py:63: DataConversionWarning: A column-vector y was passed when a 1d array was expected. Please change the shape of y to (n_samples, ), for example using ravel().\n",
      "  return f(*args, **kwargs)\n",
      "/opt/homebrew/Caskroom/miniforge/base/envs/uts/lib/python3.8/site-packages/sklearn/utils/validation.py:63: DataConversionWarning: A column-vector y was passed when a 1d array was expected. Please change the shape of y to (n_samples, ), for example using ravel().\n",
      "  return f(*args, **kwargs)\n",
      "/opt/homebrew/Caskroom/miniforge/base/envs/uts/lib/python3.8/site-packages/sklearn/utils/validation.py:63: DataConversionWarning: A column-vector y was passed when a 1d array was expected. Please change the shape of y to (n_samples, ), for example using ravel().\n",
      "  return f(*args, **kwargs)\n",
      "R2 Score is 0.3085\n",
      "Training set MSE is 0.2771\n",
      "Testing set MSE is 0.6811\n"
     ]
    }
   ],
   "source": [
    "model = SVR(kernel = 'poly')\n",
    "performCV(X_all,y_all,model)"
   ]
  },
  {
   "source": [
    "From above we can see that the linear kernel performs much better than others. We will continue explore other hyperparameters along with this kernel"
   ],
   "cell_type": "markdown",
   "metadata": {}
  },
  {
   "cell_type": "code",
   "execution_count": 31,
   "metadata": {},
   "outputs": [
    {
     "output_type": "stream",
     "name": "stderr",
     "text": [
      "/opt/homebrew/Caskroom/miniforge/base/envs/uts/lib/python3.8/site-packages/sklearn/utils/validation.py:63: DataConversionWarning: A column-vector y was passed when a 1d array was expected. Please change the shape of y to (n_samples, ), for example using ravel().\n",
      "  return f(*args, **kwargs)\n",
      "/opt/homebrew/Caskroom/miniforge/base/envs/uts/lib/python3.8/site-packages/sklearn/utils/validation.py:63: DataConversionWarning: A column-vector y was passed when a 1d array was expected. Please change the shape of y to (n_samples, ), for example using ravel().\n",
      "  return f(*args, **kwargs)\n",
      "/opt/homebrew/Caskroom/miniforge/base/envs/uts/lib/python3.8/site-packages/sklearn/utils/validation.py:63: DataConversionWarning: A column-vector y was passed when a 1d array was expected. Please change the shape of y to (n_samples, ), for example using ravel().\n",
      "  return f(*args, **kwargs)\n",
      "/opt/homebrew/Caskroom/miniforge/base/envs/uts/lib/python3.8/site-packages/sklearn/utils/validation.py:63: DataConversionWarning: A column-vector y was passed when a 1d array was expected. Please change the shape of y to (n_samples, ), for example using ravel().\n",
      "  return f(*args, **kwargs)\n",
      "/opt/homebrew/Caskroom/miniforge/base/envs/uts/lib/python3.8/site-packages/sklearn/utils/validation.py:63: DataConversionWarning: A column-vector y was passed when a 1d array was expected. Please change the shape of y to (n_samples, ), for example using ravel().\n",
      "  return f(*args, **kwargs)\n",
      "R2 Score is 0.4967\n",
      "Training set MSE is 0.4119\n",
      "Testing set MSE is 0.4947\n"
     ]
    }
   ],
   "source": [
    "model = SVR(kernel = 'linear', epsilon=0.5)\n",
    "performCV(X_all,y_all,model)"
   ]
  },
  {
   "cell_type": "code",
   "execution_count": 32,
   "metadata": {},
   "outputs": [
    {
     "output_type": "stream",
     "name": "stderr",
     "text": [
      "/opt/homebrew/Caskroom/miniforge/base/envs/uts/lib/python3.8/site-packages/sklearn/utils/validation.py:63: DataConversionWarning: A column-vector y was passed when a 1d array was expected. Please change the shape of y to (n_samples, ), for example using ravel().\n",
      "  return f(*args, **kwargs)\n",
      "/opt/homebrew/Caskroom/miniforge/base/envs/uts/lib/python3.8/site-packages/sklearn/utils/validation.py:63: DataConversionWarning: A column-vector y was passed when a 1d array was expected. Please change the shape of y to (n_samples, ), for example using ravel().\n",
      "  return f(*args, **kwargs)\n",
      "/opt/homebrew/Caskroom/miniforge/base/envs/uts/lib/python3.8/site-packages/sklearn/utils/validation.py:63: DataConversionWarning: A column-vector y was passed when a 1d array was expected. Please change the shape of y to (n_samples, ), for example using ravel().\n",
      "  return f(*args, **kwargs)\n",
      "/opt/homebrew/Caskroom/miniforge/base/envs/uts/lib/python3.8/site-packages/sklearn/utils/validation.py:63: DataConversionWarning: A column-vector y was passed when a 1d array was expected. Please change the shape of y to (n_samples, ), for example using ravel().\n",
      "  return f(*args, **kwargs)\n",
      "R2 Score is 0.4569\n",
      "Training set MSE is 0.4345\n",
      "Testing set MSE is 0.5319\n",
      "/opt/homebrew/Caskroom/miniforge/base/envs/uts/lib/python3.8/site-packages/sklearn/utils/validation.py:63: DataConversionWarning: A column-vector y was passed when a 1d array was expected. Please change the shape of y to (n_samples, ), for example using ravel().\n",
      "  return f(*args, **kwargs)\n"
     ]
    }
   ],
   "source": [
    "model = SVR(kernel = 'linear', epsilon=1)\n",
    "performCV(X_all,y_all,model)"
   ]
  },
  {
   "cell_type": "code",
   "execution_count": 33,
   "metadata": {},
   "outputs": [
    {
     "output_type": "stream",
     "name": "stderr",
     "text": [
      "/opt/homebrew/Caskroom/miniforge/base/envs/uts/lib/python3.8/site-packages/sklearn/utils/validation.py:63: DataConversionWarning: A column-vector y was passed when a 1d array was expected. Please change the shape of y to (n_samples, ), for example using ravel().\n",
      "  return f(*args, **kwargs)\n",
      "/opt/homebrew/Caskroom/miniforge/base/envs/uts/lib/python3.8/site-packages/sklearn/utils/validation.py:63: DataConversionWarning: A column-vector y was passed when a 1d array was expected. Please change the shape of y to (n_samples, ), for example using ravel().\n",
      "  return f(*args, **kwargs)\n",
      "/opt/homebrew/Caskroom/miniforge/base/envs/uts/lib/python3.8/site-packages/sklearn/utils/validation.py:63: DataConversionWarning: A column-vector y was passed when a 1d array was expected. Please change the shape of y to (n_samples, ), for example using ravel().\n",
      "  return f(*args, **kwargs)\n",
      "/opt/homebrew/Caskroom/miniforge/base/envs/uts/lib/python3.8/site-packages/sklearn/utils/validation.py:63: DataConversionWarning: A column-vector y was passed when a 1d array was expected. Please change the shape of y to (n_samples, ), for example using ravel().\n",
      "  return f(*args, **kwargs)\n",
      "/opt/homebrew/Caskroom/miniforge/base/envs/uts/lib/python3.8/site-packages/sklearn/utils/validation.py:63: DataConversionWarning: A column-vector y was passed when a 1d array was expected. Please change the shape of y to (n_samples, ), for example using ravel().\n",
      "  return f(*args, **kwargs)\n",
      "R2 Score is 0.4954\n",
      "Training set MSE is 0.4121\n",
      "Testing set MSE is 0.4958\n"
     ]
    }
   ],
   "source": [
    "model = SVR(kernel = 'linear', epsilon=0.5, C=2)\n",
    "performCV(X_all,y_all,model)"
   ]
  },
  {
   "cell_type": "code",
   "execution_count": 34,
   "metadata": {},
   "outputs": [
    {
     "output_type": "stream",
     "name": "stderr",
     "text": [
      "/opt/homebrew/Caskroom/miniforge/base/envs/uts/lib/python3.8/site-packages/sklearn/utils/validation.py:63: DataConversionWarning: A column-vector y was passed when a 1d array was expected. Please change the shape of y to (n_samples, ), for example using ravel().\n",
      "  return f(*args, **kwargs)\n",
      "/opt/homebrew/Caskroom/miniforge/base/envs/uts/lib/python3.8/site-packages/sklearn/utils/validation.py:63: DataConversionWarning: A column-vector y was passed when a 1d array was expected. Please change the shape of y to (n_samples, ), for example using ravel().\n",
      "  return f(*args, **kwargs)\n",
      "/opt/homebrew/Caskroom/miniforge/base/envs/uts/lib/python3.8/site-packages/sklearn/utils/validation.py:63: DataConversionWarning: A column-vector y was passed when a 1d array was expected. Please change the shape of y to (n_samples, ), for example using ravel().\n",
      "  return f(*args, **kwargs)\n",
      "/opt/homebrew/Caskroom/miniforge/base/envs/uts/lib/python3.8/site-packages/sklearn/utils/validation.py:63: DataConversionWarning: A column-vector y was passed when a 1d array was expected. Please change the shape of y to (n_samples, ), for example using ravel().\n",
      "  return f(*args, **kwargs)\n",
      "/opt/homebrew/Caskroom/miniforge/base/envs/uts/lib/python3.8/site-packages/sklearn/utils/validation.py:63: DataConversionWarning: A column-vector y was passed when a 1d array was expected. Please change the shape of y to (n_samples, ), for example using ravel().\n",
      "  return f(*args, **kwargs)\n",
      "R2 Score is 0.4966\n",
      "Training set MSE is 0.4118\n",
      "Testing set MSE is 0.4947\n"
     ]
    }
   ],
   "source": [
    "model = SVR(kernel = 'linear', epsilon=0.5, C=0.5)\n",
    "performCV(X_all,y_all,model)"
   ]
  },
  {
   "source": [
    "Looks like the default hyperparameters has better performance. Although it is still quite overfitting and will not have good performance in Production."
   ],
   "cell_type": "markdown",
   "metadata": {}
  }
 ]
}