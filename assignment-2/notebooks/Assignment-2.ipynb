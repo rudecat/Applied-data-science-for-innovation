{
  "nbformat": 4,
  "nbformat_minor": 0,
  "metadata": {
    "colab": {
      "name": "Hackathon.ipynb",
      "provenance": [],
      "collapsed_sections": [],
      "toc_visible": true
    },
    "kernelspec": {
      "name": "python3",
      "display_name": "Python 3.9.1 64-bit",
      "metadata": {
        "interpreter": {
          "hash": "63fd5069d213b44bf678585dea6b12cceca9941eaf7f819626cde1f2670de90d"
        }
      }
    }
  },
  "cells": [
    {
      "cell_type": "markdown",
      "metadata": {
        "id": "NzXgzVdsgR2m"
      },
      "source": [
        "# Assignment-2 Hackathon\r\n",
        "@author: Kai-Ping Wang"
      ]
    },
    {
      "cell_type": "markdown",
      "metadata": {
        "id": "EoRP98MpR-qj"
      },
      "source": [
        "# Importing the libraries"
      ]
    },
    {
      "cell_type": "code",
      "metadata": {
        "id": "N-qiINBQSK2g"
      },
      "source": [
        "import numpy as np\n",
        "import matplotlib.pyplot as plt\n",
        "import pandas as pd\n",
        "import altair"
      ],
      "execution_count": 1,
      "outputs": []
    },
    {
      "cell_type": "markdown",
      "metadata": {
        "id": "RopL7tUZSQkT"
      },
      "source": [
        "# Importing the dataset"
      ]
    },
    {
      "cell_type": "code",
      "metadata": {
        "id": "WwEPNDWySTKm"
      },
      "source": [
        "file_URL = 'https://raw.githubusercontent.com/aso-uts/applied_ds/master/assignment2/repurchase_training.csv'\n",
        "df = pd.read_csv(file_URL)"
      ],
      "execution_count": 2,
      "outputs": []
    },
    {
      "cell_type": "markdown",
      "metadata": {
        "id": "eyCU5CAyGxCG"
      },
      "source": [
        "# Exploring the dataset"
      ]
    },
    {
      "cell_type": "code",
      "metadata": {
        "colab": {
          "base_uri": "https://localhost:8080/",
          "height": 232
        },
        "id": "uRHgMSEikEWm",
        "outputId": "f7788d49-9d91-46f6-ad74-79b346a252bc"
      },
      "source": [
        "df.head()"
      ],
      "execution_count": 3,
      "outputs": [
        {
          "output_type": "execute_result",
          "data": {
            "text/html": [
              "<div>\n",
              "<style scoped>\n",
              "    .dataframe tbody tr th:only-of-type {\n",
              "        vertical-align: middle;\n",
              "    }\n",
              "\n",
              "    .dataframe tbody tr th {\n",
              "        vertical-align: top;\n",
              "    }\n",
              "\n",
              "    .dataframe thead th {\n",
              "        text-align: right;\n",
              "    }\n",
              "</style>\n",
              "<table border=\"1\" class=\"dataframe\">\n",
              "  <thead>\n",
              "    <tr style=\"text-align: right;\">\n",
              "      <th></th>\n",
              "      <th>ID</th>\n",
              "      <th>Target</th>\n",
              "      <th>age_band</th>\n",
              "      <th>gender</th>\n",
              "      <th>car_model</th>\n",
              "      <th>car_segment</th>\n",
              "      <th>age_of_vehicle_years</th>\n",
              "      <th>sched_serv_warr</th>\n",
              "      <th>non_sched_serv_warr</th>\n",
              "      <th>sched_serv_paid</th>\n",
              "      <th>non_sched_serv_paid</th>\n",
              "      <th>total_paid_services</th>\n",
              "      <th>total_services</th>\n",
              "      <th>mth_since_last_serv</th>\n",
              "      <th>annualised_mileage</th>\n",
              "      <th>num_dealers_visited</th>\n",
              "      <th>num_serv_dealer_purchased</th>\n",
              "    </tr>\n",
              "  </thead>\n",
              "  <tbody>\n",
              "    <tr>\n",
              "      <th>0</th>\n",
              "      <td>1</td>\n",
              "      <td>0</td>\n",
              "      <td>3. 35 to 44</td>\n",
              "      <td>Male</td>\n",
              "      <td>model_1</td>\n",
              "      <td>LCV</td>\n",
              "      <td>9</td>\n",
              "      <td>2</td>\n",
              "      <td>10</td>\n",
              "      <td>3</td>\n",
              "      <td>7</td>\n",
              "      <td>5</td>\n",
              "      <td>6</td>\n",
              "      <td>9</td>\n",
              "      <td>8</td>\n",
              "      <td>10</td>\n",
              "      <td>4</td>\n",
              "    </tr>\n",
              "    <tr>\n",
              "      <th>1</th>\n",
              "      <td>2</td>\n",
              "      <td>0</td>\n",
              "      <td>NaN</td>\n",
              "      <td>NaN</td>\n",
              "      <td>model_2</td>\n",
              "      <td>Small/Medium</td>\n",
              "      <td>6</td>\n",
              "      <td>10</td>\n",
              "      <td>3</td>\n",
              "      <td>10</td>\n",
              "      <td>4</td>\n",
              "      <td>9</td>\n",
              "      <td>10</td>\n",
              "      <td>6</td>\n",
              "      <td>10</td>\n",
              "      <td>7</td>\n",
              "      <td>10</td>\n",
              "    </tr>\n",
              "    <tr>\n",
              "      <th>2</th>\n",
              "      <td>3</td>\n",
              "      <td>0</td>\n",
              "      <td>NaN</td>\n",
              "      <td>Male</td>\n",
              "      <td>model_3</td>\n",
              "      <td>Large/SUV</td>\n",
              "      <td>9</td>\n",
              "      <td>10</td>\n",
              "      <td>9</td>\n",
              "      <td>10</td>\n",
              "      <td>9</td>\n",
              "      <td>10</td>\n",
              "      <td>10</td>\n",
              "      <td>7</td>\n",
              "      <td>10</td>\n",
              "      <td>6</td>\n",
              "      <td>10</td>\n",
              "    </tr>\n",
              "    <tr>\n",
              "      <th>3</th>\n",
              "      <td>5</td>\n",
              "      <td>0</td>\n",
              "      <td>NaN</td>\n",
              "      <td>NaN</td>\n",
              "      <td>model_3</td>\n",
              "      <td>Large/SUV</td>\n",
              "      <td>5</td>\n",
              "      <td>8</td>\n",
              "      <td>5</td>\n",
              "      <td>8</td>\n",
              "      <td>4</td>\n",
              "      <td>5</td>\n",
              "      <td>6</td>\n",
              "      <td>4</td>\n",
              "      <td>10</td>\n",
              "      <td>9</td>\n",
              "      <td>7</td>\n",
              "    </tr>\n",
              "    <tr>\n",
              "      <th>4</th>\n",
              "      <td>6</td>\n",
              "      <td>0</td>\n",
              "      <td>NaN</td>\n",
              "      <td>Female</td>\n",
              "      <td>model_2</td>\n",
              "      <td>Small/Medium</td>\n",
              "      <td>8</td>\n",
              "      <td>9</td>\n",
              "      <td>4</td>\n",
              "      <td>10</td>\n",
              "      <td>7</td>\n",
              "      <td>9</td>\n",
              "      <td>8</td>\n",
              "      <td>5</td>\n",
              "      <td>4</td>\n",
              "      <td>4</td>\n",
              "      <td>9</td>\n",
              "    </tr>\n",
              "  </tbody>\n",
              "</table>\n",
              "</div>"
            ],
            "text/plain": [
              "   ID  Target  ... num_dealers_visited num_serv_dealer_purchased\n",
              "0   1       0  ...                  10                         4\n",
              "1   2       0  ...                   7                        10\n",
              "2   3       0  ...                   6                        10\n",
              "3   5       0  ...                   9                         7\n",
              "4   6       0  ...                   4                         9\n",
              "\n",
              "[5 rows x 17 columns]"
            ]
          },
          "metadata": {
            "tags": []
          },
          "execution_count": 3
        }
      ]
    },
    {
      "cell_type": "code",
      "metadata": {
        "colab": {
          "base_uri": "https://localhost:8080/",
          "height": 304
        },
        "id": "onU6FfR-kAHq",
        "outputId": "27eaef96-663d-4192-9404-36ce2e2115ad"
      },
      "source": [
        "df.describe()"
      ],
      "execution_count": 4,
      "outputs": [
        {
          "output_type": "execute_result",
          "data": {
            "text/html": [
              "<div>\n",
              "<style scoped>\n",
              "    .dataframe tbody tr th:only-of-type {\n",
              "        vertical-align: middle;\n",
              "    }\n",
              "\n",
              "    .dataframe tbody tr th {\n",
              "        vertical-align: top;\n",
              "    }\n",
              "\n",
              "    .dataframe thead th {\n",
              "        text-align: right;\n",
              "    }\n",
              "</style>\n",
              "<table border=\"1\" class=\"dataframe\">\n",
              "  <thead>\n",
              "    <tr style=\"text-align: right;\">\n",
              "      <th></th>\n",
              "      <th>ID</th>\n",
              "      <th>Target</th>\n",
              "      <th>age_of_vehicle_years</th>\n",
              "      <th>sched_serv_warr</th>\n",
              "      <th>non_sched_serv_warr</th>\n",
              "      <th>sched_serv_paid</th>\n",
              "      <th>non_sched_serv_paid</th>\n",
              "      <th>total_paid_services</th>\n",
              "      <th>total_services</th>\n",
              "      <th>mth_since_last_serv</th>\n",
              "      <th>annualised_mileage</th>\n",
              "      <th>num_dealers_visited</th>\n",
              "      <th>num_serv_dealer_purchased</th>\n",
              "    </tr>\n",
              "  </thead>\n",
              "  <tbody>\n",
              "    <tr>\n",
              "      <th>count</th>\n",
              "      <td>131337.000000</td>\n",
              "      <td>131337.000000</td>\n",
              "      <td>131337.000000</td>\n",
              "      <td>131337.000000</td>\n",
              "      <td>131337.000000</td>\n",
              "      <td>131337.000000</td>\n",
              "      <td>131337.000000</td>\n",
              "      <td>131337.000000</td>\n",
              "      <td>131337.000000</td>\n",
              "      <td>131337.000000</td>\n",
              "      <td>131337.000000</td>\n",
              "      <td>131337.000000</td>\n",
              "      <td>131337.000000</td>\n",
              "    </tr>\n",
              "    <tr>\n",
              "      <th>mean</th>\n",
              "      <td>77097.384180</td>\n",
              "      <td>0.026809</td>\n",
              "      <td>5.493022</td>\n",
              "      <td>5.452500</td>\n",
              "      <td>5.472517</td>\n",
              "      <td>5.452287</td>\n",
              "      <td>5.497050</td>\n",
              "      <td>5.481692</td>\n",
              "      <td>5.454967</td>\n",
              "      <td>5.469807</td>\n",
              "      <td>5.502836</td>\n",
              "      <td>5.485438</td>\n",
              "      <td>5.480778</td>\n",
              "    </tr>\n",
              "    <tr>\n",
              "      <th>std</th>\n",
              "      <td>44501.636704</td>\n",
              "      <td>0.161525</td>\n",
              "      <td>2.843299</td>\n",
              "      <td>2.884328</td>\n",
              "      <td>2.870665</td>\n",
              "      <td>2.886528</td>\n",
              "      <td>2.878699</td>\n",
              "      <td>2.880408</td>\n",
              "      <td>2.875961</td>\n",
              "      <td>2.859756</td>\n",
              "      <td>2.854896</td>\n",
              "      <td>2.876772</td>\n",
              "      <td>2.867524</td>\n",
              "    </tr>\n",
              "    <tr>\n",
              "      <th>min</th>\n",
              "      <td>1.000000</td>\n",
              "      <td>0.000000</td>\n",
              "      <td>1.000000</td>\n",
              "      <td>1.000000</td>\n",
              "      <td>1.000000</td>\n",
              "      <td>1.000000</td>\n",
              "      <td>1.000000</td>\n",
              "      <td>1.000000</td>\n",
              "      <td>1.000000</td>\n",
              "      <td>1.000000</td>\n",
              "      <td>1.000000</td>\n",
              "      <td>1.000000</td>\n",
              "      <td>1.000000</td>\n",
              "    </tr>\n",
              "    <tr>\n",
              "      <th>25%</th>\n",
              "      <td>38563.000000</td>\n",
              "      <td>0.000000</td>\n",
              "      <td>3.000000</td>\n",
              "      <td>3.000000</td>\n",
              "      <td>3.000000</td>\n",
              "      <td>3.000000</td>\n",
              "      <td>3.000000</td>\n",
              "      <td>3.000000</td>\n",
              "      <td>3.000000</td>\n",
              "      <td>3.000000</td>\n",
              "      <td>3.000000</td>\n",
              "      <td>3.000000</td>\n",
              "      <td>3.000000</td>\n",
              "    </tr>\n",
              "    <tr>\n",
              "      <th>50%</th>\n",
              "      <td>77132.000000</td>\n",
              "      <td>0.000000</td>\n",
              "      <td>5.000000</td>\n",
              "      <td>5.000000</td>\n",
              "      <td>5.000000</td>\n",
              "      <td>5.000000</td>\n",
              "      <td>5.000000</td>\n",
              "      <td>5.000000</td>\n",
              "      <td>5.000000</td>\n",
              "      <td>5.000000</td>\n",
              "      <td>5.000000</td>\n",
              "      <td>5.000000</td>\n",
              "      <td>5.000000</td>\n",
              "    </tr>\n",
              "    <tr>\n",
              "      <th>75%</th>\n",
              "      <td>115668.000000</td>\n",
              "      <td>0.000000</td>\n",
              "      <td>8.000000</td>\n",
              "      <td>8.000000</td>\n",
              "      <td>8.000000</td>\n",
              "      <td>8.000000</td>\n",
              "      <td>8.000000</td>\n",
              "      <td>8.000000</td>\n",
              "      <td>8.000000</td>\n",
              "      <td>8.000000</td>\n",
              "      <td>8.000000</td>\n",
              "      <td>8.000000</td>\n",
              "      <td>8.000000</td>\n",
              "    </tr>\n",
              "    <tr>\n",
              "      <th>max</th>\n",
              "      <td>154139.000000</td>\n",
              "      <td>1.000000</td>\n",
              "      <td>10.000000</td>\n",
              "      <td>10.000000</td>\n",
              "      <td>10.000000</td>\n",
              "      <td>10.000000</td>\n",
              "      <td>10.000000</td>\n",
              "      <td>10.000000</td>\n",
              "      <td>10.000000</td>\n",
              "      <td>10.000000</td>\n",
              "      <td>10.000000</td>\n",
              "      <td>10.000000</td>\n",
              "      <td>10.000000</td>\n",
              "    </tr>\n",
              "  </tbody>\n",
              "</table>\n",
              "</div>"
            ],
            "text/plain": [
              "                  ID  ...  num_serv_dealer_purchased\n",
              "count  131337.000000  ...              131337.000000\n",
              "mean    77097.384180  ...                   5.480778\n",
              "std     44501.636704  ...                   2.867524\n",
              "min         1.000000  ...                   1.000000\n",
              "25%     38563.000000  ...                   3.000000\n",
              "50%     77132.000000  ...                   5.000000\n",
              "75%    115668.000000  ...                   8.000000\n",
              "max    154139.000000  ...                  10.000000\n",
              "\n",
              "[8 rows x 13 columns]"
            ]
          },
          "metadata": {
            "tags": []
          },
          "execution_count": 4
        }
      ]
    },
    {
      "cell_type": "markdown",
      "metadata": {
        "id": "3imOlTONGXeq"
      },
      "source": [
        "Checking the TARGET value count, we notice that the dataset is imbalanced. This affects the metric we will be using to measure the performance of classifier."
      ]
    },
    {
      "cell_type": "code",
      "metadata": {
        "colab": {
          "base_uri": "https://localhost:8080/"
        },
        "id": "XRhRO9comIAb",
        "outputId": "970a5dc8-e20f-4441-8423-33b4c6b21eb9"
      },
      "source": [
        "df.Target.value_counts()"
      ],
      "execution_count": 5,
      "outputs": [
        {
          "output_type": "execute_result",
          "data": {
            "text/plain": [
              "0    127816\n",
              "1      3521\n",
              "Name: Target, dtype: int64"
            ]
          },
          "metadata": {
            "tags": []
          },
          "execution_count": 5
        }
      ]
    },
    {
      "cell_type": "code",
      "metadata": {
        "colab": {
          "base_uri": "https://localhost:8080/"
        },
        "id": "p6Mwbl7-kRPC",
        "outputId": "a4365daa-a563-4fce-b02d-07c2c3d2fb13"
      },
      "source": [
        "df.info()"
      ],
      "execution_count": 6,
      "outputs": [
        {
          "output_type": "stream",
          "text": [
            "<class 'pandas.core.frame.DataFrame'>\n",
            "RangeIndex: 131337 entries, 0 to 131336\n",
            "Data columns (total 17 columns):\n",
            " #   Column                     Non-Null Count   Dtype \n",
            "---  ------                     --------------   ----- \n",
            " 0   ID                         131337 non-null  int64 \n",
            " 1   Target                     131337 non-null  int64 \n",
            " 2   age_band                   18962 non-null   object\n",
            " 3   gender                     62029 non-null   object\n",
            " 4   car_model                  131337 non-null  object\n",
            " 5   car_segment                131337 non-null  object\n",
            " 6   age_of_vehicle_years       131337 non-null  int64 \n",
            " 7   sched_serv_warr            131337 non-null  int64 \n",
            " 8   non_sched_serv_warr        131337 non-null  int64 \n",
            " 9   sched_serv_paid            131337 non-null  int64 \n",
            " 10  non_sched_serv_paid        131337 non-null  int64 \n",
            " 11  total_paid_services        131337 non-null  int64 \n",
            " 12  total_services             131337 non-null  int64 \n",
            " 13  mth_since_last_serv        131337 non-null  int64 \n",
            " 14  annualised_mileage         131337 non-null  int64 \n",
            " 15  num_dealers_visited        131337 non-null  int64 \n",
            " 16  num_serv_dealer_purchased  131337 non-null  int64 \n",
            "dtypes: int64(13), object(4)\n",
            "memory usage: 17.0+ MB\n"
          ],
          "name": "stdout"
        }
      ]
    },
    {
      "cell_type": "code",
      "metadata": {
        "colab": {
          "base_uri": "https://localhost:8080/"
        },
        "id": "lKMH_s64kujG",
        "outputId": "e1f662a2-20e4-417a-df97-8afde6596353"
      },
      "source": [
        "df.age_band.value_counts()"
      ],
      "execution_count": 7,
      "outputs": [
        {
          "output_type": "execute_result",
          "data": {
            "text/plain": [
              "4. 45 to 54    4058\n",
              "3. 35 to 44    3833\n",
              "2. 25 to 34    3548\n",
              "5. 55 to 64    3397\n",
              "6. 65 to 74    2140\n",
              "7. 75+         1019\n",
              "1. <25          967\n",
              "Name: age_band, dtype: int64"
            ]
          },
          "metadata": {
            "tags": []
          },
          "execution_count": 7
        }
      ]
    },
    {
      "cell_type": "code",
      "metadata": {
        "colab": {
          "base_uri": "https://localhost:8080/"
        },
        "id": "J4ShcwiflAY1",
        "outputId": "6814b1ca-c282-4027-eccd-83d46c307717"
      },
      "source": [
        "df.gender.value_counts()"
      ],
      "execution_count": 8,
      "outputs": [
        {
          "output_type": "execute_result",
          "data": {
            "text/plain": [
              "Male      36072\n",
              "Female    25957\n",
              "Name: gender, dtype: int64"
            ]
          },
          "metadata": {
            "tags": []
          },
          "execution_count": 8
        }
      ]
    },
    {
      "cell_type": "code",
      "metadata": {
        "colab": {
          "base_uri": "https://localhost:8080/"
        },
        "id": "UHt0P-rrlD1d",
        "outputId": "a14dac3b-55d8-4e61-d0b3-bdb0c8f40561"
      },
      "source": [
        "df.car_model.value_counts()"
      ],
      "execution_count": 9,
      "outputs": [
        {
          "output_type": "execute_result",
          "data": {
            "text/plain": [
              "model_2     34491\n",
              "model_5     24674\n",
              "model_3     17074\n",
              "model_1     15331\n",
              "model_4     15155\n",
              "model_7      8167\n",
              "model_8      6443\n",
              "model_10     3215\n",
              "model_6      3071\n",
              "model_9       994\n",
              "model_13      714\n",
              "model_12      614\n",
              "model_11      612\n",
              "model_15      334\n",
              "model_17      153\n",
              "model_16      114\n",
              "model_18      101\n",
              "model_14       78\n",
              "model_19        2\n",
              "Name: car_model, dtype: int64"
            ]
          },
          "metadata": {
            "tags": []
          },
          "execution_count": 9
        }
      ]
    },
    {
      "cell_type": "code",
      "metadata": {
        "colab": {
          "base_uri": "https://localhost:8080/"
        },
        "id": "W0FLT_jilI4t",
        "outputId": "0ded6859-3e4f-4387-b41c-5899b671e19f"
      },
      "source": [
        "df.car_segment.value_counts()"
      ],
      "execution_count": 10,
      "outputs": [
        {
          "output_type": "execute_result",
          "data": {
            "text/plain": [
              "Small/Medium    54553\n",
              "Large/SUV       52120\n",
              "LCV             24606\n",
              "Other              58\n",
              "Name: car_segment, dtype: int64"
            ]
          },
          "metadata": {
            "tags": []
          },
          "execution_count": 10
        }
      ]
    },
    {
      "cell_type": "markdown",
      "metadata": {
        "id": "kUqsVGndHN8v"
      },
      "source": [
        "# Data Preparation"
      ]
    },
    {
      "cell_type": "markdown",
      "metadata": {
        "id": "sqkXCOqfHVBW"
      },
      "source": [
        "## Convert categorical data into labels"
      ]
    },
    {
      "cell_type": "code",
      "metadata": {
        "id": "Kb5iXkaVqJvS"
      },
      "source": [
        "from sklearn import preprocessing\r\n",
        "car_lb = preprocessing.LabelEncoder()\r\n",
        "df.car_model = car_lb.fit_transform(df.car_model)\r\n",
        "car_seg = preprocessing.LabelEncoder()\r\n",
        "df.car_segment = car_seg.fit_transform(df.car_segment)"
      ],
      "execution_count": 11,
      "outputs": []
    },
    {
      "cell_type": "markdown",
      "metadata": {
        "id": "9sfZ2wGjHbZN"
      },
      "source": [
        "## Handle missing data\r\n",
        "Use 'OTHER' for missing data because the percentage of missing data is too much, so separating from existing value to avoid training being contaminated."
      ]
    },
    {
      "cell_type": "code",
      "metadata": {
        "colab": {
          "base_uri": "https://localhost:8080/"
        },
        "id": "MFbbmVgzvQ0m",
        "outputId": "4e5ad97c-b928-427d-c2d7-85cffe208d3e"
      },
      "source": [
        "gender_lb = preprocessing.LabelEncoder()\r\n",
        "df.gender.fillna('OTHER')\r\n",
        "df.gender = gender_lb.fit_transform(df.gender.fillna('OTHER'))\r\n",
        "df.gender.value_counts()"
      ],
      "execution_count": 12,
      "outputs": [
        {
          "output_type": "execute_result",
          "data": {
            "text/plain": [
              "2    69308\n",
              "1    36072\n",
              "0    25957\n",
              "Name: gender, dtype: int64"
            ]
          },
          "metadata": {
            "tags": []
          },
          "execution_count": 12
        }
      ]
    },
    {
      "cell_type": "code",
      "metadata": {
        "colab": {
          "base_uri": "https://localhost:8080/"
        },
        "id": "24g_v66sxwXL",
        "outputId": "e7a82979-3891-48b5-ba1d-d6e8e9143d42"
      },
      "source": [
        "age_lb = preprocessing.LabelEncoder()\r\n",
        "df.age_band.fillna('OTHER')\r\n",
        "df.age_band = age_lb.fit_transform(df.age_band.fillna('OTHER'))\r\n",
        "df.age_band.value_counts()"
      ],
      "execution_count": 13,
      "outputs": [
        {
          "output_type": "execute_result",
          "data": {
            "text/plain": [
              "7    112375\n",
              "3      4058\n",
              "2      3833\n",
              "1      3548\n",
              "4      3397\n",
              "5      2140\n",
              "6      1019\n",
              "0       967\n",
              "Name: age_band, dtype: int64"
            ]
          },
          "metadata": {
            "tags": []
          },
          "execution_count": 13
        }
      ]
    },
    {
      "cell_type": "code",
      "metadata": {
        "colab": {
          "base_uri": "https://localhost:8080/"
        },
        "id": "o0kiKmssnIeP",
        "outputId": "c9325d79-4ed6-4e35-89dd-c17e4a196f64"
      },
      "source": [
        "X = df.iloc[:, 2:].values\r\n",
        "X"
      ],
      "execution_count": 14,
      "outputs": [
        {
          "output_type": "execute_result",
          "data": {
            "text/plain": [
              "array([[ 2,  1,  0, ...,  8, 10,  4],\n",
              "       [ 7,  2, 11, ..., 10,  7, 10],\n",
              "       [ 7,  1, 12, ..., 10,  6, 10],\n",
              "       ...,\n",
              "       [ 7,  2, 14, ...,  7, 10, 10],\n",
              "       [ 7,  2, 14, ...,  6,  7, 10],\n",
              "       [ 7,  2,  0, ...,  4,  9, 10]])"
            ]
          },
          "metadata": {
            "tags": []
          },
          "execution_count": 14
        }
      ]
    },
    {
      "cell_type": "code",
      "metadata": {
        "colab": {
          "base_uri": "https://localhost:8080/"
        },
        "id": "OwmHYjz9nc4x",
        "outputId": "079707c5-c125-4d02-96d4-3e6218343488"
      },
      "source": [
        "y = df.iloc[:, 1].values\r\n",
        "y"
      ],
      "execution_count": 15,
      "outputs": [
        {
          "output_type": "execute_result",
          "data": {
            "text/plain": [
              "array([0, 0, 0, ..., 1, 1, 1])"
            ]
          },
          "metadata": {
            "tags": []
          },
          "execution_count": 15
        }
      ]
    },
    {
      "cell_type": "markdown",
      "metadata": {
        "id": "OiHy6xWkIHaR"
      },
      "source": [
        "# Split training set and testing set"
      ]
    },
    {
      "cell_type": "code",
      "metadata": {
        "id": "7oWG5ht5oO_x"
      },
      "source": [
        "from sklearn.model_selection import train_test_split\r\n",
        "X_train, X_test, y_train, y_test = train_test_split(X, y, test_size = 0.2, random_state = 0)\r\n",
        "df_features = df.drop(columns=['ID','Target'])"
      ],
      "execution_count": 16,
      "outputs": []
    },
    {
      "cell_type": "markdown",
      "metadata": {
        "id": "6ksdNp-oIL-E"
      },
      "source": [
        "# Modeling"
      ]
    },
    {
      "cell_type": "markdown",
      "metadata": {
        "id": "4zK979_xIO8_"
      },
      "source": [
        "## Create a get_score method to be reused easily, and it does the following\r\n",
        "- Train the model using training set\r\n",
        "- Print out F1 and MCC score\r\n",
        "- Print out feature importance if possible\r\n",
        "- Print out confusion metrix"
      ]
    },
    {
      "cell_type": "code",
      "metadata": {
        "id": "BtCjPyx-3E7X"
      },
      "source": [
        "from sklearn.ensemble import RandomForestClassifier\r\n",
        "from sklearn.metrics import f1_score\r\n",
        "from sklearn.metrics import confusion_matrix\r\n",
        "from sklearn.metrics import matthews_corrcoef\r\n",
        "from sklearn.metrics import plot_confusion_matrix\r\n",
        "import matplotlib.pyplot as plt\r\n",
        "\r\n",
        "def get_score(model):\r\n",
        "  model.fit(X_train, y_train)\r\n",
        "  y_pred_train = model.predict(X_train)\r\n",
        "  y_pred = model.predict(X_test)\r\n",
        "  print(\"F1 score for training is %.4f\" % f1_score(y_train, y_pred_train))\r\n",
        "  print(\"MCC score for training is %.4f\" % matthews_corrcoef(y_train, y_pred_train))\r\n",
        "  print(\"F1 score is %.4f\" % f1_score(y_test, y_pred))\r\n",
        "  print(\"MCC score is %.4f\" % matthews_corrcoef(y_test, y_pred))\r\n",
        "\r\n",
        "  # If it's random forest classifier, print out feature importances\r\n",
        "  if isinstance(model, RandomForestClassifier):\r\n",
        "    # check Important features\r\n",
        "    feature_importances_df = pd.DataFrame(\r\n",
        "        {\"feature\": df_features.columns, \"importance\": model.feature_importances_}\r\n",
        "    ).sort_values(\"importance\", ascending=False)\r\n",
        "\r\n",
        "    # Display\r\n",
        "    print(feature_importances_df)\r\n",
        "  \r\n",
        "  print(\"=== Confusion Metrix ===\")\r\n",
        "  print(confusion_matrix(y_test, y_pred))\r\n",
        "  plot_confusion_matrix(model, X_test, y_test, cmap=plt.cm.Blues, normalize='true')"
      ],
      "execution_count": 17,
      "outputs": []
    },
    {
      "cell_type": "markdown",
      "metadata": {
        "id": "w6mK5sqsIjAa"
      },
      "source": [
        "## KNeighborsClassifier"
      ]
    },
    {
      "cell_type": "code",
      "metadata": {
        "colab": {
          "base_uri": "https://localhost:8080/",
          "height": 397
        },
        "id": "tqbaWAZ-Dll7",
        "outputId": "112e8e64-811b-4660-d36f-6d15513aeb2a"
      },
      "source": [
        "from sklearn.neighbors import KNeighborsClassifier\r\n",
        "get_score(KNeighborsClassifier())"
      ],
      "execution_count": 18,
      "outputs": [
        {
          "output_type": "stream",
          "text": [
            "F1 score for training is 0.7614\n",
            "MCC score for training is 0.7726\n",
            "F1 score is 0.6920\n",
            "MCC score is 0.7121\n",
            "=== Confusion Metrix ===\n",
            "[[25561    24]\n",
            " [  309   374]]\n"
          ],
          "name": "stdout"
        },
        {
          "output_type": "display_data",
          "data": {
            "image/png": "[encoded data removed]",
            "text/plain": [
              "<Figure size 432x288 with 2 Axes>"
            ]
          },
          "metadata": {
            "tags": [],
            "needs_background": "light"
          }
        }
      ]
    },
    {
      "cell_type": "markdown",
      "metadata": {
        "id": "gz90OdoHIl1b"
      },
      "source": [
        "## LogisticRegression"
      ]
    },
    {
      "cell_type": "code",
      "metadata": {
        "colab": {
          "base_uri": "https://localhost:8080/",
          "height": 397
        },
        "id": "8gRJ-TDSF1Nv",
        "outputId": "1a65c135-a350-4179-8e3e-de49bcb87611"
      },
      "source": [
        "from sklearn.linear_model import LogisticRegression\r\n",
        "get_score(LogisticRegression(random_state = 0))"
      ],
      "execution_count": 19,
      "outputs": [
        {
          "output_type": "stream",
          "text": [
            "F1 score for training is 0.3389\n",
            "MCC score for training is 0.4120\n",
            "F1 score is 0.3392\n",
            "MCC score is 0.4217\n",
            "=== Confusion Metrix ===\n",
            "[[25563    22]\n",
            " [  539   144]]\n"
          ],
          "name": "stdout"
        },
        {
          "output_type": "display_data",
          "data": {
            "image/png": "[encoded data removed]",
            "text/plain": [
              "<Figure size 432x288 with 2 Axes>"
            ]
          },
          "metadata": {
            "tags": [],
            "needs_background": "light"
          }
        }
      ]
    },
    {
      "cell_type": "markdown",
      "metadata": {
        "id": "Uekl7TCjInU4"
      },
      "source": [
        "## RandomForestClassifier"
      ]
    },
    {
      "cell_type": "code",
      "metadata": {
        "id": "hC0-_njXlffY",
        "colab": {
          "base_uri": "https://localhost:8080/",
          "height": 666
        },
        "outputId": "07e68a1f-24f5-4568-b4ab-d179f223d56d"
      },
      "source": [
        "from sklearn.ensemble import RandomForestClassifier\r\n",
        "get_score(RandomForestClassifier(random_state = 0))"
      ],
      "execution_count": 20,
      "outputs": [
        {
          "output_type": "stream",
          "text": [
            "F1 score for training is 0.9998\n",
            "MCC score for training is 0.9998\n",
            "F1 score is 0.8779\n",
            "MCC score is 0.8801\n",
            "                      feature  importance\n",
            "11        mth_since_last_serv    0.163010\n",
            "12         annualised_mileage    0.128741\n",
            "14  num_serv_dealer_purchased    0.123543\n",
            "4        age_of_vehicle_years    0.093930\n",
            "10             total_services    0.079255\n",
            "5             sched_serv_warr    0.065636\n",
            "13        num_dealers_visited    0.065590\n",
            "7             sched_serv_paid    0.056287\n",
            "9         total_paid_services    0.051628\n",
            "6         non_sched_serv_warr    0.050943\n",
            "8         non_sched_serv_paid    0.040120\n",
            "1                      gender    0.035282\n",
            "2                   car_model    0.028399\n",
            "3                 car_segment    0.012151\n",
            "0                    age_band    0.005485\n",
            "=== Confusion Metrix ===\n",
            "[[25574    11]\n",
            " [  140   543]]\n"
          ],
          "name": "stdout"
        },
        {
          "output_type": "display_data",
          "data": {
            "image/png": "[encoded data removed]",
            "text/plain": [
              "<Figure size 432x288 with 2 Axes>"
            ]
          },
          "metadata": {
            "tags": [],
            "needs_background": "light"
          }
        }
      ]
    },
    {
      "cell_type": "code",
      "metadata": {
        "id": "35YUXLNW0CI8",
        "colab": {
          "base_uri": "https://localhost:8080/",
          "height": 666
        },
        "outputId": "286c33a8-28e2-4ab4-9897-4d4ed38b4d0d"
      },
      "source": [
        "get_score(RandomForestClassifier(random_state = 8, criterion = 'entropy'))"
      ],
      "execution_count": 21,
      "outputs": [
        {
          "output_type": "stream",
          "text": [
            "F1 score for training is 0.9998\n",
            "MCC score for training is 0.9998\n",
            "F1 score is 0.8803\n",
            "MCC score is 0.8825\n",
            "                      feature  importance\n",
            "11        mth_since_last_serv    0.157345\n",
            "12         annualised_mileage    0.116317\n",
            "5             sched_serv_warr    0.104871\n",
            "14  num_serv_dealer_purchased    0.098046\n",
            "10             total_services    0.097134\n",
            "4        age_of_vehicle_years    0.093216\n",
            "7             sched_serv_paid    0.086429\n",
            "13        num_dealers_visited    0.057534\n",
            "6         non_sched_serv_warr    0.044927\n",
            "9         total_paid_services    0.042318\n",
            "8         non_sched_serv_paid    0.032972\n",
            "1                      gender    0.030138\n",
            "2                   car_model    0.023731\n",
            "3                 car_segment    0.010757\n",
            "0                    age_band    0.004265\n",
            "=== Confusion Metrix ===\n",
            "[[25576     9]\n",
            " [  139   544]]\n"
          ],
          "name": "stdout"
        },
        {
          "output_type": "display_data",
          "data": {
            "image/png": "[encoded data removed]",
            "text/plain": [
              "<Figure size 432x288 with 2 Axes>"
            ]
          },
          "metadata": {
            "tags": [],
            "needs_background": "light"
          }
        }
      ]
    },
    {
      "cell_type": "code",
      "metadata": {
        "id": "qts_UFt_0dYs",
        "colab": {
          "base_uri": "https://localhost:8080/",
          "height": 666
        },
        "outputId": "7d2c80bb-a31f-46f9-eaff-72a091ddb7b7"
      },
      "source": [
        "get_score(RandomForestClassifier(random_state = 3, criterion = 'entropy'))"
      ],
      "execution_count": 22,
      "outputs": [
        {
          "output_type": "stream",
          "text": [
            "F1 score for training is 0.9998\n",
            "MCC score for training is 0.9998\n",
            "F1 score is 0.8842\n",
            "MCC score is 0.8859\n",
            "                      feature  importance\n",
            "11        mth_since_last_serv    0.152258\n",
            "12         annualised_mileage    0.113595\n",
            "5             sched_serv_warr    0.104546\n",
            "14  num_serv_dealer_purchased    0.097087\n",
            "10             total_services    0.096106\n",
            "4        age_of_vehicle_years    0.095269\n",
            "7             sched_serv_paid    0.087265\n",
            "13        num_dealers_visited    0.060348\n",
            "6         non_sched_serv_warr    0.048496\n",
            "9         total_paid_services    0.042247\n",
            "8         non_sched_serv_paid    0.032380\n",
            "1                      gender    0.030568\n",
            "2                   car_model    0.024204\n",
            "3                 car_segment    0.010912\n",
            "0                    age_band    0.004718\n",
            "=== Confusion Metrix ===\n",
            "[[25574    11]\n",
            " [  133   550]]\n"
          ],
          "name": "stdout"
        },
        {
          "output_type": "display_data",
          "data": {
            "image/png": "[encoded data removed]",
            "text/plain": [
              "<Figure size 432x288 with 2 Axes>"
            ]
          },
          "metadata": {
            "tags": [],
            "needs_background": "light"
          }
        }
      ]
    },
    {
      "cell_type": "code",
      "metadata": {
        "id": "uYIfIVps2D9t",
        "colab": {
          "base_uri": "https://localhost:8080/",
          "height": 666
        },
        "outputId": "cc8a505a-c417-4976-aa6e-5e9147f2de48"
      },
      "source": [
        "get_score(RandomForestClassifier(random_state = 3))"
      ],
      "execution_count": 23,
      "outputs": [
        {
          "output_type": "stream",
          "text": [
            "F1 score for training is 0.9998\n",
            "MCC score for training is 0.9998\n",
            "F1 score is 0.8837\n",
            "MCC score is 0.8852\n",
            "                      feature  importance\n",
            "11        mth_since_last_serv    0.157974\n",
            "12         annualised_mileage    0.123434\n",
            "14  num_serv_dealer_purchased    0.119170\n",
            "4        age_of_vehicle_years    0.098760\n",
            "10             total_services    0.084424\n",
            "13        num_dealers_visited    0.065337\n",
            "5             sched_serv_warr    0.060101\n",
            "7             sched_serv_paid    0.058910\n",
            "9         total_paid_services    0.054898\n",
            "6         non_sched_serv_warr    0.054252\n",
            "8         non_sched_serv_paid    0.038116\n",
            "1                      gender    0.036370\n",
            "2                   car_model    0.029323\n",
            "3                 car_segment    0.012816\n",
            "0                    age_band    0.006114\n",
            "=== Confusion Metrix ===\n",
            "[[25572    13]\n",
            " [  132   551]]\n"
          ],
          "name": "stdout"
        },
        {
          "output_type": "display_data",
          "data": {
            "image/png": "[encoded data removed]",
            "text/plain": [
              "<Figure size 432x288 with 2 Axes>"
            ]
          },
          "metadata": {
            "tags": [],
            "needs_background": "light"
          }
        }
      ]
    },
    {
      "cell_type": "code",
      "metadata": {
        "id": "g7wwkpLd4zuM",
        "colab": {
          "base_uri": "https://localhost:8080/",
          "height": 666
        },
        "outputId": "dce7c673-4fc5-457f-b4a4-31d89d0f563b"
      },
      "source": [
        "get_score(RandomForestClassifier(n_estimators = 150, random_state = 8, criterion = 'entropy'))"
      ],
      "execution_count": 24,
      "outputs": [
        {
          "output_type": "stream",
          "text": [
            "F1 score for training is 0.9998\n",
            "MCC score for training is 0.9998\n",
            "F1 score is 0.8839\n",
            "MCC score is 0.8859\n",
            "                      feature  importance\n",
            "11        mth_since_last_serv    0.157760\n",
            "12         annualised_mileage    0.115357\n",
            "5             sched_serv_warr    0.103725\n",
            "14  num_serv_dealer_purchased    0.097626\n",
            "10             total_services    0.097292\n",
            "4        age_of_vehicle_years    0.093527\n",
            "7             sched_serv_paid    0.084559\n",
            "13        num_dealers_visited    0.057600\n",
            "6         non_sched_serv_warr    0.046845\n",
            "9         total_paid_services    0.043518\n",
            "8         non_sched_serv_paid    0.033066\n",
            "1                      gender    0.030486\n",
            "2                   car_model    0.023745\n",
            "3                 car_segment    0.010546\n",
            "0                    age_band    0.004348\n",
            "=== Confusion Metrix ===\n",
            "[[25576     9]\n",
            " [  135   548]]\n"
          ],
          "name": "stdout"
        },
        {
          "output_type": "display_data",
          "data": {
            "image/png": "[encoded data removed]",
            "text/plain": [
              "<Figure size 432x288 with 2 Axes>"
            ]
          },
          "metadata": {
            "tags": [],
            "needs_background": "light"
          }
        }
      ]
    },
    {
      "cell_type": "code",
      "metadata": {
        "colab": {
          "base_uri": "https://localhost:8080/",
          "height": 666
        },
        "id": "cwemW5N4TADD",
        "outputId": "7aa2d9d4-6476-445f-b805-441b1c5c336d"
      },
      "source": [
        "get_score(RandomForestClassifier(n_estimators = 150, random_state = 8, criterion = 'entropy', max_depth=10))"
      ],
      "execution_count": 25,
      "outputs": [
        {
          "output_type": "stream",
          "text": [
            "F1 score for training is 0.8258\n",
            "MCC score for training is 0.8337\n",
            "F1 score is 0.7827\n",
            "MCC score is 0.7960\n",
            "                      feature  importance\n",
            "11        mth_since_last_serv    0.178273\n",
            "5             sched_serv_warr    0.131072\n",
            "12         annualised_mileage    0.120371\n",
            "10             total_services    0.109427\n",
            "7             sched_serv_paid    0.098236\n",
            "4        age_of_vehicle_years    0.090801\n",
            "14  num_serv_dealer_purchased    0.086409\n",
            "13        num_dealers_visited    0.046560\n",
            "9         total_paid_services    0.040776\n",
            "6         non_sched_serv_warr    0.039704\n",
            "1                      gender    0.023141\n",
            "8         non_sched_serv_paid    0.022623\n",
            "2                   car_model    0.007303\n",
            "3                 car_segment    0.002946\n",
            "0                    age_band    0.002358\n",
            "=== Confusion Metrix ===\n",
            "[[25579     6]\n",
            " [  240   443]]\n"
          ],
          "name": "stdout"
        },
        {
          "output_type": "display_data",
          "data": {
            "image/png": "[encoded data removed]",
            "text/plain": [
              "<Figure size 432x288 with 2 Axes>"
            ]
          },
          "metadata": {
            "tags": [],
            "needs_background": "light"
          }
        }
      ]
    },
    {
      "cell_type": "code",
      "metadata": {
        "colab": {
          "base_uri": "https://localhost:8080/",
          "height": 666
        },
        "id": "8dXNyiILTFTU",
        "outputId": "c464c108-01b1-4a75-9d32-10609467d9b9"
      },
      "source": [
        "get_score(RandomForestClassifier(n_estimators = 150, random_state = 8, criterion = 'entropy', max_depth=15))"
      ],
      "execution_count": 26,
      "outputs": [
        {
          "output_type": "stream",
          "text": [
            "F1 score for training is 0.9502\n",
            "MCC score for training is 0.9500\n",
            "F1 score is 0.8716\n",
            "MCC score is 0.8749\n",
            "                      feature  importance\n",
            "11        mth_since_last_serv    0.163547\n",
            "12         annualised_mileage    0.118074\n",
            "5             sched_serv_warr    0.104731\n",
            "10             total_services    0.104489\n",
            "4        age_of_vehicle_years    0.095836\n",
            "14  num_serv_dealer_purchased    0.094439\n",
            "7             sched_serv_paid    0.091419\n",
            "13        num_dealers_visited    0.053802\n",
            "9         total_paid_services    0.043434\n",
            "6         non_sched_serv_warr    0.042783\n",
            "1                      gender    0.029799\n",
            "8         non_sched_serv_paid    0.029106\n",
            "2                   car_model    0.017256\n",
            "3                 car_segment    0.007478\n",
            "0                    age_band    0.003804\n",
            "=== Confusion Metrix ===\n",
            "[[25578     7]\n",
            " [  150   533]]\n"
          ],
          "name": "stdout"
        },
        {
          "output_type": "display_data",
          "data": {
            "image/png": "[encoded data removed]",
            "text/plain": [
              "<Figure size 432x288 with 2 Axes>"
            ]
          },
          "metadata": {
            "tags": [],
            "needs_background": "light"
          }
        }
      ]
    },
    {
      "cell_type": "code",
      "metadata": {
        "colab": {
          "base_uri": "https://localhost:8080/",
          "height": 666
        },
        "id": "isFKVx45TkGX",
        "outputId": "74b99fd6-085b-425f-d655-4275fd5ec85c"
      },
      "source": [
        "get_score(RandomForestClassifier(n_estimators = 150, random_state = 8, criterion = 'entropy', max_depth=13))"
      ],
      "execution_count": 27,
      "outputs": [
        {
          "output_type": "stream",
          "text": [
            "F1 score for training is 0.9233\n",
            "MCC score for training is 0.9239\n",
            "F1 score is 0.8586\n",
            "MCC score is 0.8629\n",
            "                      feature  importance\n",
            "11        mth_since_last_serv    0.167301\n",
            "12         annualised_mileage    0.118547\n",
            "10             total_services    0.110344\n",
            "5             sched_serv_warr    0.108887\n",
            "4        age_of_vehicle_years    0.095196\n",
            "7             sched_serv_paid    0.093421\n",
            "14  num_serv_dealer_purchased    0.093393\n",
            "13        num_dealers_visited    0.050706\n",
            "6         non_sched_serv_warr    0.042483\n",
            "9         total_paid_services    0.041119\n",
            "8         non_sched_serv_paid    0.027578\n",
            "1                      gender    0.027170\n",
            "2                   car_model    0.014240\n",
            "3                 car_segment    0.005930\n",
            "0                    age_band    0.003684\n",
            "=== Confusion Metrix ===\n",
            "[[25578     7]\n",
            " [  164   519]]\n"
          ],
          "name": "stdout"
        },
        {
          "output_type": "display_data",
          "data": {
            "image/png": "[encoded data removed]",
            "text/plain": [
              "<Figure size 432x288 with 2 Axes>"
            ]
          },
          "metadata": {
            "tags": [],
            "needs_background": "light"
          }
        }
      ]
    },
    {
      "cell_type": "code",
      "metadata": {
        "colab": {
          "base_uri": "https://localhost:8080/",
          "height": 666
        },
        "id": "SbcOBJzgUE-R",
        "outputId": "bab5e691-5b3b-47ca-b883-76ccdbf2f6e3"
      },
      "source": [
        "get_score(RandomForestClassifier(n_estimators = 150, random_state = 8, criterion = 'entropy', max_depth=13, min_samples_leaf=5))"
      ],
      "execution_count": 28,
      "outputs": [
        {
          "output_type": "stream",
          "text": [
            "F1 score for training is 0.8748\n",
            "MCC score for training is 0.8772\n",
            "F1 score is 0.8467\n",
            "MCC score is 0.8517\n",
            "                      feature  importance\n",
            "11        mth_since_last_serv    0.167563\n",
            "5             sched_serv_warr    0.122501\n",
            "12         annualised_mileage    0.117310\n",
            "10             total_services    0.106073\n",
            "4        age_of_vehicle_years    0.096858\n",
            "14  num_serv_dealer_purchased    0.094212\n",
            "7             sched_serv_paid    0.091895\n",
            "13        num_dealers_visited    0.049941\n",
            "9         total_paid_services    0.042831\n",
            "6         non_sched_serv_warr    0.039714\n",
            "1                      gender    0.027532\n",
            "8         non_sched_serv_paid    0.025480\n",
            "2                   car_model    0.011599\n",
            "3                 car_segment    0.004494\n",
            "0                    age_band    0.001997\n",
            "=== Confusion Metrix ===\n",
            "[[25576     9]\n",
            " [  175   508]]\n"
          ],
          "name": "stdout"
        },
        {
          "output_type": "display_data",
          "data": {
            "image/png": "[encoded data removed]",
            "text/plain": [
              "<Figure size 432x288 with 2 Axes>"
            ]
          },
          "metadata": {
            "tags": [],
            "needs_background": "light"
          }
        }
      ]
    },
    {
      "cell_type": "code",
      "metadata": {
        "colab": {
          "base_uri": "https://localhost:8080/",
          "height": 666
        },
        "id": "XKs0UU6JUatc",
        "outputId": "c2e82d6f-530f-4ca1-b484-c313aadff878"
      },
      "source": [
        "get_score(RandomForestClassifier(n_estimators = 150, random_state = 8, criterion = 'entropy', max_depth=13, min_samples_leaf=10))"
      ],
      "execution_count": 29,
      "outputs": [
        {
          "output_type": "stream",
          "text": [
            "F1 score for training is 0.8427\n",
            "MCC score for training is 0.8474\n",
            "F1 score is 0.8181\n",
            "MCC score is 0.8261\n",
            "                      feature  importance\n",
            "11        mth_since_last_serv    0.172424\n",
            "12         annualised_mileage    0.116579\n",
            "5             sched_serv_warr    0.116034\n",
            "10             total_services    0.107989\n",
            "7             sched_serv_paid    0.100473\n",
            "4        age_of_vehicle_years    0.093551\n",
            "14  num_serv_dealer_purchased    0.091339\n",
            "13        num_dealers_visited    0.051425\n",
            "9         total_paid_services    0.041978\n",
            "6         non_sched_serv_warr    0.041844\n",
            "1                      gender    0.027068\n",
            "8         non_sched_serv_paid    0.023694\n",
            "2                   car_model    0.009585\n",
            "3                 car_segment    0.004299\n",
            "0                    age_band    0.001717\n",
            "=== Confusion Metrix ===\n",
            "[[25576     9]\n",
            " [  204   479]]\n"
          ],
          "name": "stdout"
        },
        {
          "output_type": "display_data",
          "data": {
            "image/png": "[encoded data removed]",
            "text/plain": [
              "<Figure size 432x288 with 2 Axes>"
            ]
          },
          "metadata": {
            "tags": [],
            "needs_background": "light"
          }
        }
      ]
    },
    {
      "cell_type": "code",
      "metadata": {
        "colab": {
          "base_uri": "https://localhost:8080/",
          "height": 666
        },
        "id": "sieD_om-Ufc4",
        "outputId": "fb1cf934-7ad3-4b44-c959-9276bde1542c"
      },
      "source": [
        "get_score(RandomForestClassifier(n_estimators = 150, random_state = 8, criterion = 'entropy', max_depth=12, min_samples_leaf=5))"
      ],
      "execution_count": 30,
      "outputs": [
        {
          "output_type": "stream",
          "text": [
            "F1 score for training is 0.8573\n",
            "MCC score for training is 0.8613\n",
            "F1 score is 0.8331\n",
            "MCC score is 0.8395\n",
            "                      feature  importance\n",
            "11        mth_since_last_serv    0.170937\n",
            "5             sched_serv_warr    0.119359\n",
            "12         annualised_mileage    0.119042\n",
            "10             total_services    0.105242\n",
            "7             sched_serv_paid    0.101164\n",
            "4        age_of_vehicle_years    0.093691\n",
            "14  num_serv_dealer_purchased    0.092472\n",
            "13        num_dealers_visited    0.050222\n",
            "6         non_sched_serv_warr    0.039595\n",
            "9         total_paid_services    0.038615\n",
            "1                      gender    0.026981\n",
            "8         non_sched_serv_paid    0.026345\n",
            "2                   car_model    0.010153\n",
            "3                 car_segment    0.004055\n",
            "0                    age_band    0.002125\n",
            "=== Confusion Metrix ===\n",
            "[[25576     9]\n",
            " [  189   494]]\n"
          ],
          "name": "stdout"
        },
        {
          "output_type": "display_data",
          "data": {
            "image/png": "[encoded data removed]",
            "text/plain": [
              "<Figure size 432x288 with 2 Axes>"
            ]
          },
          "metadata": {
            "tags": [],
            "needs_background": "light"
          }
        }
      ]
    }
  ]
}